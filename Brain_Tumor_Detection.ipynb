{
  "nbformat": 4,
  "nbformat_minor": 0,
  "metadata": {
    "colab": {
      "provenance": [],
      "gpuType": "T4"
    },
    "kernelspec": {
      "name": "python3",
      "display_name": "Python 3"
    },
    "language_info": {
      "name": "python"
    },
    "accelerator": "GPU"
  },
  "cells": [
    {
      "cell_type": "code",
      "execution_count": null,
      "metadata": {
        "id": "Xk78oRDCaKw8"
      },
      "outputs": [],
      "source": [
        "# configuring the path of Kaggle.json file\n",
        "!mkdir -p ~/.kaggle\n",
        "!cp kaggle.json ~/.kaggle/\n",
        "!chmod 600 ~/.kaggle/kaggle.json"
      ]
    },
    {
      "cell_type": "code",
      "source": [
        "!kaggle datasets download -d sartajbhuvaji/brain-tumor-classification-mri"
      ],
      "metadata": {
        "colab": {
          "base_uri": "https://localhost:8080/"
        },
        "id": "ndkI_gSscBKe",
        "outputId": "adae7e3d-cb10-4902-9289-da76c042ab9b"
      },
      "execution_count": null,
      "outputs": [
        {
          "output_type": "stream",
          "name": "stdout",
          "text": [
            "Downloading brain-tumor-classification-mri.zip to /content\n",
            " 99% 86.0M/86.8M [00:05<00:00, 23.1MB/s]\n",
            "100% 86.8M/86.8M [00:05<00:00, 17.1MB/s]\n"
          ]
        }
      ]
    },
    {
      "cell_type": "code",
      "source": [
        "# extracting the compessed Dataset\n",
        "from zipfile import ZipFile\n",
        "dataset = '/content/brain-tumor-classification-mri.zip'\n",
        "\n",
        "with ZipFile(dataset,'r') as zip:\n",
        "  zip.extractall()\n",
        "  print('The dataset is extracted')"
      ],
      "metadata": {
        "colab": {
          "base_uri": "https://localhost:8080/"
        },
        "id": "ICrdirUPcW0F",
        "outputId": "92fcec58-eca6-444b-b3d7-8293c7ea96d9"
      },
      "execution_count": null,
      "outputs": [
        {
          "output_type": "stream",
          "name": "stdout",
          "text": [
            "The dataset is extracted\n"
          ]
        }
      ]
    },
    {
      "cell_type": "code",
      "source": [
        "!ls"
      ],
      "metadata": {
        "colab": {
          "base_uri": "https://localhost:8080/"
        },
        "id": "HGSc5K7Nc0Tc",
        "outputId": "6ebb7e66-8916-4ca6-c616-ea577ab07915"
      },
      "execution_count": null,
      "outputs": [
        {
          "output_type": "stream",
          "name": "stdout",
          "text": [
            "brain-tumor-classification-mri.zip  kaggle.json  sample_data  Testing  Training\n"
          ]
        }
      ]
    },
    {
      "cell_type": "code",
      "source": [
        "import os\n",
        "from keras.models import Sequential\n",
        "from keras.layers import Conv2D, Flatten, Dense, MaxPooling2D,Dropout\n",
        "from sklearn.metrics import accuracy_score"
      ],
      "metadata": {
        "id": "PA6dB5WJc2Zs"
      },
      "execution_count": null,
      "outputs": []
    },
    {
      "cell_type": "code",
      "source": [
        "import ipywidgets as widgets\n",
        "import io\n",
        "from PIL import Image\n",
        "import tqdm\n",
        "from sklearn.model_selection import train_test_split\n",
        "import cv2\n",
        "from google.colab.patches import cv2_imshow\n",
        "from sklearn.utils import shuffle\n",
        "import tensorflow as tf\n",
        "import numpy as np\n",
        "import pandas as pd"
      ],
      "metadata": {
        "id": "PUWLMyfcc6BP"
      },
      "execution_count": null,
      "outputs": []
    },
    {
      "cell_type": "code",
      "source": [
        "X_train = []\n",
        "Y_train = []\n",
        "image_size = 150\n",
        "labels = ['glioma_tumor','meningioma_tumor','no_tumor','pituitary_tumor']\n",
        "for i in labels:\n",
        "  folderPath = os.path.join('/content/Training',i)\n",
        "  for j in os.listdir(folderPath):\n",
        "    img = cv2.imread(os.path.join(folderPath,j))\n",
        "    img = cv2.resize(img,(image_size,image_size), interpolation = cv2.INTER_LINEAR)\n",
        "    X_train.append(img)\n",
        "    Y_train.append(i)\n",
        "\n",
        "\n",
        "for i in labels:\n",
        "  folderPath = os.path.join('/content/Testing',i)\n",
        "  for j in os.listdir(folderPath):\n",
        "    img = cv2.imread(os.path.join(folderPath,j))\n",
        "    img = cv2.resize(img,(image_size,image_size), interpolation = cv2.INTER_LINEAR)\n",
        "    X_train.append(img)\n",
        "    Y_train.append(i)\n",
        "\n",
        "X_train = np.array(X_train)\n",
        "Y_train = np.array(Y_train)"
      ],
      "metadata": {
        "id": "LwEKQtW5hNWk"
      },
      "execution_count": null,
      "outputs": []
    },
    {
      "cell_type": "code",
      "source": [
        "X_train,Y_train = shuffle(X_train,Y_train, random_state = 101)\n",
        "X_train.shape"
      ],
      "metadata": {
        "colab": {
          "base_uri": "https://localhost:8080/"
        },
        "id": "C5TKEtRtjywe",
        "outputId": "2503c732-3371-430c-bb12-bc281259857e"
      },
      "execution_count": null,
      "outputs": [
        {
          "output_type": "execute_result",
          "data": {
            "text/plain": [
              "(3264, 150, 150, 3)"
            ]
          },
          "metadata": {},
          "execution_count": 8
        }
      ]
    },
    {
      "cell_type": "markdown",
      "source": [
        "Train Test Split"
      ],
      "metadata": {
        "id": "z3yDSGq9kc0h"
      }
    },
    {
      "cell_type": "code",
      "source": [
        "X_train, X_test, y_train, y_test = train_test_split(X_train,Y_train, test_size = 0.1,random_state = 101)"
      ],
      "metadata": {
        "id": "NVXdK5VokesT"
      },
      "execution_count": null,
      "outputs": []
    },
    {
      "cell_type": "markdown",
      "source": [
        "Labels"
      ],
      "metadata": {
        "id": "IKKNiUlxmhaW"
      }
    },
    {
      "cell_type": "code",
      "source": [
        "y_train_new = []\n",
        "for i in y_train:\n",
        "  y_train_new.append(labels.index(i))\n",
        "y_train = y_train_new\n",
        "y_train = tf.keras.utils.to_categorical(y_train)\n",
        "\n",
        "\n",
        "y_test_new = []\n",
        "for i in y_test:\n",
        "  y_test_new.append(labels.index(i))\n",
        "y_test = y_train_new\n",
        "y_test = tf.keras.utils.to_categorical(y_test)"
      ],
      "metadata": {
        "id": "Gc_I-oRdk6Jk"
      },
      "execution_count": null,
      "outputs": []
    },
    {
      "cell_type": "markdown",
      "source": [
        "###Model Building (Convolutional Neural Network)"
      ],
      "metadata": {
        "id": "yviz-RnBmnPX"
      }
    },
    {
      "cell_type": "code",
      "source": [
        "model = Sequential()\n",
        "\n",
        "model.add(Conv2D(32,(3,3),activation = 'relu', input_shape = (150,150,3)))\n",
        "model.add(Conv2D(64,(3,3),activation = 'relu'))\n",
        "model.add(MaxPooling2D(2,2))\n",
        "model.add(Dropout(0.3))\n",
        "\n",
        "model.add(Conv2D(64,(3,3),activation = 'relu'))\n",
        "model.add(Conv2D(64,(3,3),activation = 'relu'))\n",
        "model.add(Dropout(0.3))\n",
        "model.add(MaxPooling2D(2,2))\n",
        "model.add(Dropout(0.3))\n",
        "\n",
        "model.add(Conv2D(128,(3,3),activation = 'relu'))\n",
        "model.add(Conv2D(128,(3,3),activation = 'relu'))\n",
        "model.add(Conv2D(128,(3,3),activation = 'relu'))\n",
        "model.add(MaxPooling2D(2,2))\n",
        "model.add(Dropout(0.3))\n",
        "\n",
        "model.add(Conv2D(128,(3,3),activation = 'relu'))\n",
        "model.add(Conv2D(256,(3,3),activation = 'relu'))\n",
        "model.add(MaxPooling2D(2,2))\n",
        "model.add(Dropout(0.3))\n",
        "\n",
        "model.add(Flatten())\n",
        "\n",
        "model.add(Dense(512, activation = 'relu'))\n",
        "model.add(Dense(512, activation = 'relu'))\n",
        "model.add(Dropout(0.3))\n",
        "\n",
        "model.add(Dense(4, activation = 'softmax'))"
      ],
      "metadata": {
        "id": "Ticw6w9cmdDU"
      },
      "execution_count": null,
      "outputs": []
    },
    {
      "cell_type": "code",
      "source": [
        "model.summary()"
      ],
      "metadata": {
        "colab": {
          "base_uri": "https://localhost:8080/"
        },
        "id": "eRa12xpnonGp",
        "outputId": "593a587e-de83-4b39-f9de-a08da59eb92f"
      },
      "execution_count": null,
      "outputs": [
        {
          "output_type": "stream",
          "name": "stdout",
          "text": [
            "Model: \"sequential\"\n",
            "_________________________________________________________________\n",
            " Layer (type)                Output Shape              Param #   \n",
            "=================================================================\n",
            " conv2d (Conv2D)             (None, 148, 148, 32)      896       \n",
            "                                                                 \n",
            " conv2d_1 (Conv2D)           (None, 146, 146, 64)      18496     \n",
            "                                                                 \n",
            " max_pooling2d (MaxPooling2D  (None, 73, 73, 64)       0         \n",
            " )                                                               \n",
            "                                                                 \n",
            " dropout (Dropout)           (None, 73, 73, 64)        0         \n",
            "                                                                 \n",
            " conv2d_2 (Conv2D)           (None, 71, 71, 64)        36928     \n",
            "                                                                 \n",
            " conv2d_3 (Conv2D)           (None, 69, 69, 64)        36928     \n",
            "                                                                 \n",
            " dropout_1 (Dropout)         (None, 69, 69, 64)        0         \n",
            "                                                                 \n",
            " max_pooling2d_1 (MaxPooling  (None, 34, 34, 64)       0         \n",
            " 2D)                                                             \n",
            "                                                                 \n",
            " dropout_2 (Dropout)         (None, 34, 34, 64)        0         \n",
            "                                                                 \n",
            " conv2d_4 (Conv2D)           (None, 32, 32, 128)       73856     \n",
            "                                                                 \n",
            " conv2d_5 (Conv2D)           (None, 30, 30, 128)       147584    \n",
            "                                                                 \n",
            " conv2d_6 (Conv2D)           (None, 28, 28, 128)       147584    \n",
            "                                                                 \n",
            " max_pooling2d_2 (MaxPooling  (None, 14, 14, 128)      0         \n",
            " 2D)                                                             \n",
            "                                                                 \n",
            " dropout_3 (Dropout)         (None, 14, 14, 128)       0         \n",
            "                                                                 \n",
            " conv2d_7 (Conv2D)           (None, 12, 12, 128)       147584    \n",
            "                                                                 \n",
            " conv2d_8 (Conv2D)           (None, 10, 10, 256)       295168    \n",
            "                                                                 \n",
            " max_pooling2d_3 (MaxPooling  (None, 5, 5, 256)        0         \n",
            " 2D)                                                             \n",
            "                                                                 \n",
            " dropout_4 (Dropout)         (None, 5, 5, 256)         0         \n",
            "                                                                 \n",
            " flatten (Flatten)           (None, 6400)              0         \n",
            "                                                                 \n",
            " dense (Dense)               (None, 512)               3277312   \n",
            "                                                                 \n",
            " dense_1 (Dense)             (None, 512)               262656    \n",
            "                                                                 \n",
            " dropout_5 (Dropout)         (None, 512)               0         \n",
            "                                                                 \n",
            " dense_2 (Dense)             (None, 4)                 2052      \n",
            "                                                                 \n",
            "=================================================================\n",
            "Total params: 4,447,044\n",
            "Trainable params: 4,447,044\n",
            "Non-trainable params: 0\n",
            "_________________________________________________________________\n"
          ]
        }
      ]
    },
    {
      "cell_type": "code",
      "source": [
        "model.compile(optimizer = 'Adam', loss = 'categorical_crossentropy', metrics = ['accuracy'])"
      ],
      "metadata": {
        "id": "ZGWUspxLorV-"
      },
      "execution_count": null,
      "outputs": []
    },
    {
      "cell_type": "code",
      "source": [
        "history = model.fit(X_train,y_train, epochs = 100, validation_split = 0.1)"
      ],
      "metadata": {
        "colab": {
          "base_uri": "https://localhost:8080/"
        },
        "id": "LWhGaEMzpl_5",
        "outputId": "fa542a88-472b-482d-9b37-049004fb3e5b"
      },
      "execution_count": null,
      "outputs": [
        {
          "output_type": "stream",
          "name": "stdout",
          "text": [
            "Epoch 1/100\n",
            "83/83 [==============================] - 8s 100ms/step - loss: 0.0859 - accuracy: 0.9716 - val_loss: 0.2656 - val_accuracy: 0.9184\n",
            "Epoch 2/100\n",
            "83/83 [==============================] - 8s 100ms/step - loss: 0.0798 - accuracy: 0.9716 - val_loss: 0.2673 - val_accuracy: 0.9184\n",
            "Epoch 3/100\n",
            "83/83 [==============================] - 8s 99ms/step - loss: 0.0935 - accuracy: 0.9690 - val_loss: 0.4008 - val_accuracy: 0.9048\n",
            "Epoch 4/100\n",
            "83/83 [==============================] - 8s 97ms/step - loss: 0.0902 - accuracy: 0.9697 - val_loss: 0.3491 - val_accuracy: 0.8878\n",
            "Epoch 5/100\n",
            "83/83 [==============================] - 8s 99ms/step - loss: 0.0894 - accuracy: 0.9750 - val_loss: 0.3327 - val_accuracy: 0.9082\n",
            "Epoch 6/100\n",
            "83/83 [==============================] - 8s 97ms/step - loss: 0.0547 - accuracy: 0.9815 - val_loss: 0.4648 - val_accuracy: 0.8741\n",
            "Epoch 7/100\n",
            "83/83 [==============================] - 8s 95ms/step - loss: 0.0858 - accuracy: 0.9765 - val_loss: 0.2993 - val_accuracy: 0.9320\n",
            "Epoch 8/100\n",
            "83/83 [==============================] - 8s 95ms/step - loss: 0.0533 - accuracy: 0.9818 - val_loss: 0.4031 - val_accuracy: 0.8980\n",
            "Epoch 9/100\n",
            "83/83 [==============================] - 8s 97ms/step - loss: 0.0626 - accuracy: 0.9826 - val_loss: 0.4407 - val_accuracy: 0.8946\n",
            "Epoch 10/100\n",
            "83/83 [==============================] - 8s 96ms/step - loss: 0.0733 - accuracy: 0.9735 - val_loss: 0.3609 - val_accuracy: 0.9082\n",
            "Epoch 11/100\n",
            "83/83 [==============================] - 8s 98ms/step - loss: 0.0658 - accuracy: 0.9781 - val_loss: 0.4906 - val_accuracy: 0.8980\n",
            "Epoch 12/100\n",
            "83/83 [==============================] - 8s 96ms/step - loss: 0.0766 - accuracy: 0.9750 - val_loss: 0.4861 - val_accuracy: 0.8639\n",
            "Epoch 13/100\n",
            "83/83 [==============================] - 8s 98ms/step - loss: 0.0637 - accuracy: 0.9815 - val_loss: 0.3094 - val_accuracy: 0.9184\n",
            "Epoch 14/100\n",
            "83/83 [==============================] - 8s 98ms/step - loss: 0.0435 - accuracy: 0.9845 - val_loss: 0.3674 - val_accuracy: 0.9184\n",
            "Epoch 15/100\n",
            "83/83 [==============================] - 8s 96ms/step - loss: 0.0680 - accuracy: 0.9762 - val_loss: 0.3604 - val_accuracy: 0.8878\n",
            "Epoch 16/100\n",
            "83/83 [==============================] - 8s 97ms/step - loss: 0.0597 - accuracy: 0.9796 - val_loss: 0.3055 - val_accuracy: 0.9218\n",
            "Epoch 17/100\n",
            "83/83 [==============================] - 8s 95ms/step - loss: 0.0563 - accuracy: 0.9799 - val_loss: 0.2723 - val_accuracy: 0.9184\n",
            "Epoch 18/100\n",
            "83/83 [==============================] - 8s 95ms/step - loss: 0.0875 - accuracy: 0.9747 - val_loss: 0.3689 - val_accuracy: 0.8912\n",
            "Epoch 19/100\n",
            "83/83 [==============================] - 8s 97ms/step - loss: 0.0558 - accuracy: 0.9826 - val_loss: 0.6657 - val_accuracy: 0.8776\n",
            "Epoch 20/100\n",
            "83/83 [==============================] - 8s 96ms/step - loss: 0.0953 - accuracy: 0.9739 - val_loss: 0.4097 - val_accuracy: 0.8980\n",
            "Epoch 21/100\n",
            "83/83 [==============================] - 8s 95ms/step - loss: 0.0350 - accuracy: 0.9871 - val_loss: 0.3340 - val_accuracy: 0.9252\n",
            "Epoch 22/100\n",
            "83/83 [==============================] - 8s 96ms/step - loss: 0.0418 - accuracy: 0.9898 - val_loss: 0.3818 - val_accuracy: 0.9082\n",
            "Epoch 23/100\n",
            "83/83 [==============================] - 8s 95ms/step - loss: 0.0858 - accuracy: 0.9731 - val_loss: 0.4400 - val_accuracy: 0.9048\n",
            "Epoch 24/100\n",
            "83/83 [==============================] - 8s 97ms/step - loss: 0.0500 - accuracy: 0.9845 - val_loss: 0.3912 - val_accuracy: 0.9150\n",
            "Epoch 25/100\n",
            "83/83 [==============================] - 8s 98ms/step - loss: 0.0430 - accuracy: 0.9871 - val_loss: 0.5212 - val_accuracy: 0.8878\n",
            "Epoch 26/100\n",
            "83/83 [==============================] - 8s 96ms/step - loss: 0.0647 - accuracy: 0.9807 - val_loss: 0.3485 - val_accuracy: 0.8946\n",
            "Epoch 27/100\n",
            "83/83 [==============================] - 8s 95ms/step - loss: 0.0230 - accuracy: 0.9917 - val_loss: 0.3936 - val_accuracy: 0.9252\n",
            "Epoch 28/100\n",
            "83/83 [==============================] - 8s 97ms/step - loss: 0.0310 - accuracy: 0.9921 - val_loss: 0.4562 - val_accuracy: 0.9048\n",
            "Epoch 29/100\n",
            "83/83 [==============================] - 8s 97ms/step - loss: 0.0393 - accuracy: 0.9864 - val_loss: 0.4036 - val_accuracy: 0.9286\n",
            "Epoch 30/100\n",
            "83/83 [==============================] - 8s 97ms/step - loss: 0.0345 - accuracy: 0.9886 - val_loss: 0.6122 - val_accuracy: 0.9014\n",
            "Epoch 31/100\n",
            "83/83 [==============================] - 8s 94ms/step - loss: 0.0457 - accuracy: 0.9886 - val_loss: 0.3969 - val_accuracy: 0.8980\n",
            "Epoch 32/100\n",
            "83/83 [==============================] - 8s 94ms/step - loss: 0.0229 - accuracy: 0.9939 - val_loss: 0.4056 - val_accuracy: 0.9184\n",
            "Epoch 33/100\n",
            "83/83 [==============================] - 8s 95ms/step - loss: 0.0202 - accuracy: 0.9936 - val_loss: 0.4466 - val_accuracy: 0.9218\n",
            "Epoch 34/100\n",
            "83/83 [==============================] - 8s 94ms/step - loss: 0.0291 - accuracy: 0.9921 - val_loss: 0.4464 - val_accuracy: 0.9218\n",
            "Epoch 35/100\n",
            "83/83 [==============================] - 8s 95ms/step - loss: 0.0650 - accuracy: 0.9803 - val_loss: 0.3742 - val_accuracy: 0.9082\n",
            "Epoch 36/100\n",
            "83/83 [==============================] - 8s 96ms/step - loss: 0.0308 - accuracy: 0.9905 - val_loss: 0.4063 - val_accuracy: 0.9184\n",
            "Epoch 37/100\n",
            "83/83 [==============================] - 8s 94ms/step - loss: 0.0905 - accuracy: 0.9728 - val_loss: 0.3992 - val_accuracy: 0.9252\n",
            "Epoch 38/100\n",
            "83/83 [==============================] - 8s 96ms/step - loss: 0.0414 - accuracy: 0.9868 - val_loss: 0.4399 - val_accuracy: 0.9184\n",
            "Epoch 39/100\n",
            "83/83 [==============================] - 8s 96ms/step - loss: 0.0440 - accuracy: 0.9864 - val_loss: 0.3882 - val_accuracy: 0.9218\n",
            "Epoch 40/100\n",
            "83/83 [==============================] - 8s 96ms/step - loss: 0.0342 - accuracy: 0.9905 - val_loss: 0.4464 - val_accuracy: 0.9116\n",
            "Epoch 41/100\n",
            "83/83 [==============================] - 8s 96ms/step - loss: 0.0540 - accuracy: 0.9834 - val_loss: 0.4527 - val_accuracy: 0.9082\n",
            "Epoch 42/100\n",
            "83/83 [==============================] - 8s 95ms/step - loss: 0.0836 - accuracy: 0.9743 - val_loss: 0.4160 - val_accuracy: 0.8946\n",
            "Epoch 43/100\n",
            "83/83 [==============================] - 8s 96ms/step - loss: 0.0425 - accuracy: 0.9860 - val_loss: 0.3265 - val_accuracy: 0.9116\n",
            "Epoch 44/100\n",
            "83/83 [==============================] - 8s 94ms/step - loss: 0.0308 - accuracy: 0.9909 - val_loss: 0.4348 - val_accuracy: 0.9048\n",
            "Epoch 45/100\n",
            "83/83 [==============================] - 8s 95ms/step - loss: 0.0118 - accuracy: 0.9962 - val_loss: 0.4340 - val_accuracy: 0.9150\n",
            "Epoch 46/100\n",
            "83/83 [==============================] - 8s 94ms/step - loss: 0.0118 - accuracy: 0.9966 - val_loss: 0.4886 - val_accuracy: 0.9218\n",
            "Epoch 47/100\n",
            "83/83 [==============================] - 8s 94ms/step - loss: 0.0090 - accuracy: 0.9974 - val_loss: 0.5011 - val_accuracy: 0.8980\n",
            "Epoch 48/100\n",
            "83/83 [==============================] - 8s 94ms/step - loss: 0.0089 - accuracy: 0.9977 - val_loss: 0.6024 - val_accuracy: 0.8810\n",
            "Epoch 49/100\n",
            "83/83 [==============================] - 8s 95ms/step - loss: 0.0716 - accuracy: 0.9788 - val_loss: 0.5346 - val_accuracy: 0.8639\n",
            "Epoch 50/100\n",
            "83/83 [==============================] - 8s 96ms/step - loss: 0.0576 - accuracy: 0.9799 - val_loss: 0.4902 - val_accuracy: 0.8844\n",
            "Epoch 51/100\n",
            "83/83 [==============================] - 8s 94ms/step - loss: 0.0922 - accuracy: 0.9750 - val_loss: 0.4507 - val_accuracy: 0.8571\n",
            "Epoch 52/100\n",
            "83/83 [==============================] - 8s 95ms/step - loss: 0.0379 - accuracy: 0.9886 - val_loss: 0.4595 - val_accuracy: 0.8980\n",
            "Epoch 53/100\n",
            "83/83 [==============================] - 8s 95ms/step - loss: 0.0285 - accuracy: 0.9905 - val_loss: 0.5211 - val_accuracy: 0.8844\n",
            "Epoch 54/100\n",
            "83/83 [==============================] - 8s 95ms/step - loss: 0.0332 - accuracy: 0.9894 - val_loss: 0.5077 - val_accuracy: 0.8980\n",
            "Epoch 55/100\n",
            "83/83 [==============================] - 8s 96ms/step - loss: 0.0188 - accuracy: 0.9932 - val_loss: 0.5968 - val_accuracy: 0.9014\n",
            "Epoch 56/100\n",
            "83/83 [==============================] - 8s 95ms/step - loss: 0.0514 - accuracy: 0.9845 - val_loss: 0.4446 - val_accuracy: 0.8912\n",
            "Epoch 57/100\n",
            "83/83 [==============================] - 8s 95ms/step - loss: 0.0175 - accuracy: 0.9921 - val_loss: 0.4100 - val_accuracy: 0.9048\n",
            "Epoch 58/100\n",
            "83/83 [==============================] - 8s 95ms/step - loss: 0.0346 - accuracy: 0.9905 - val_loss: 0.3604 - val_accuracy: 0.9116\n",
            "Epoch 59/100\n",
            "83/83 [==============================] - 8s 94ms/step - loss: 0.0673 - accuracy: 0.9818 - val_loss: 0.3921 - val_accuracy: 0.8844\n",
            "Epoch 60/100\n",
            "83/83 [==============================] - 8s 96ms/step - loss: 0.0422 - accuracy: 0.9879 - val_loss: 0.3434 - val_accuracy: 0.9252\n",
            "Epoch 61/100\n",
            "83/83 [==============================] - 8s 95ms/step - loss: 0.0129 - accuracy: 0.9947 - val_loss: 0.4306 - val_accuracy: 0.9184\n",
            "Epoch 62/100\n",
            "83/83 [==============================] - 8s 95ms/step - loss: 0.0275 - accuracy: 0.9909 - val_loss: 0.4461 - val_accuracy: 0.9184\n",
            "Epoch 63/100\n",
            "83/83 [==============================] - 8s 94ms/step - loss: 0.0634 - accuracy: 0.9852 - val_loss: 0.4614 - val_accuracy: 0.8776\n",
            "Epoch 64/100\n",
            "83/83 [==============================] - 8s 93ms/step - loss: 0.0571 - accuracy: 0.9841 - val_loss: 0.4316 - val_accuracy: 0.9422\n",
            "Epoch 65/100\n",
            "83/83 [==============================] - 8s 94ms/step - loss: 0.0297 - accuracy: 0.9924 - val_loss: 0.5078 - val_accuracy: 0.9184\n",
            "Epoch 66/100\n",
            "83/83 [==============================] - 8s 95ms/step - loss: 0.0213 - accuracy: 0.9943 - val_loss: 0.6059 - val_accuracy: 0.9184\n",
            "Epoch 67/100\n",
            "83/83 [==============================] - 8s 95ms/step - loss: 0.0254 - accuracy: 0.9932 - val_loss: 0.4474 - val_accuracy: 0.9082\n",
            "Epoch 68/100\n",
            "83/83 [==============================] - 8s 94ms/step - loss: 0.0363 - accuracy: 0.9921 - val_loss: 0.4125 - val_accuracy: 0.9048\n",
            "Epoch 69/100\n",
            "83/83 [==============================] - 8s 95ms/step - loss: 0.0117 - accuracy: 0.9962 - val_loss: 0.5497 - val_accuracy: 0.9150\n",
            "Epoch 70/100\n",
            "83/83 [==============================] - 8s 94ms/step - loss: 0.0166 - accuracy: 0.9947 - val_loss: 0.5262 - val_accuracy: 0.9150\n",
            "Epoch 71/100\n",
            "83/83 [==============================] - 8s 94ms/step - loss: 0.0178 - accuracy: 0.9951 - val_loss: 0.4762 - val_accuracy: 0.9354\n",
            "Epoch 72/100\n",
            "83/83 [==============================] - 8s 95ms/step - loss: 0.0342 - accuracy: 0.9905 - val_loss: 0.4380 - val_accuracy: 0.9048\n",
            "Epoch 73/100\n",
            "83/83 [==============================] - 8s 96ms/step - loss: 0.0578 - accuracy: 0.9830 - val_loss: 0.5425 - val_accuracy: 0.8707\n",
            "Epoch 74/100\n",
            "83/83 [==============================] - 8s 95ms/step - loss: 0.0415 - accuracy: 0.9849 - val_loss: 1.2170 - val_accuracy: 0.8061\n",
            "Epoch 75/100\n",
            "83/83 [==============================] - 8s 95ms/step - loss: 0.0732 - accuracy: 0.9773 - val_loss: 0.4892 - val_accuracy: 0.9218\n",
            "Epoch 76/100\n",
            "83/83 [==============================] - 8s 93ms/step - loss: 0.1160 - accuracy: 0.9709 - val_loss: 0.4123 - val_accuracy: 0.8878\n",
            "Epoch 77/100\n",
            "83/83 [==============================] - 8s 95ms/step - loss: 0.0390 - accuracy: 0.9886 - val_loss: 0.5166 - val_accuracy: 0.9082\n",
            "Epoch 78/100\n",
            "83/83 [==============================] - 8s 92ms/step - loss: 0.0289 - accuracy: 0.9917 - val_loss: 0.3639 - val_accuracy: 0.9286\n",
            "Epoch 79/100\n",
            "83/83 [==============================] - 8s 95ms/step - loss: 0.0138 - accuracy: 0.9951 - val_loss: 0.4638 - val_accuracy: 0.9286\n",
            "Epoch 80/100\n",
            "83/83 [==============================] - 8s 94ms/step - loss: 0.0159 - accuracy: 0.9955 - val_loss: 0.4760 - val_accuracy: 0.9218\n",
            "Epoch 81/100\n",
            "83/83 [==============================] - 8s 94ms/step - loss: 0.0126 - accuracy: 0.9936 - val_loss: 0.6606 - val_accuracy: 0.8912\n",
            "Epoch 82/100\n",
            "83/83 [==============================] - 8s 95ms/step - loss: 0.0523 - accuracy: 0.9868 - val_loss: 0.4933 - val_accuracy: 0.8946\n",
            "Epoch 83/100\n",
            "83/83 [==============================] - 8s 92ms/step - loss: 0.0259 - accuracy: 0.9924 - val_loss: 0.6590 - val_accuracy: 0.8878\n",
            "Epoch 84/100\n",
            "83/83 [==============================] - 8s 94ms/step - loss: 0.0342 - accuracy: 0.9909 - val_loss: 0.5831 - val_accuracy: 0.9048\n",
            "Epoch 85/100\n",
            "83/83 [==============================] - 8s 94ms/step - loss: 0.0326 - accuracy: 0.9928 - val_loss: 0.5066 - val_accuracy: 0.9048\n",
            "Epoch 86/100\n",
            "83/83 [==============================] - 8s 94ms/step - loss: 0.0114 - accuracy: 0.9966 - val_loss: 0.4580 - val_accuracy: 0.9286\n",
            "Epoch 87/100\n",
            "83/83 [==============================] - 8s 94ms/step - loss: 0.0125 - accuracy: 0.9962 - val_loss: 0.7523 - val_accuracy: 0.9320\n",
            "Epoch 88/100\n",
            "83/83 [==============================] - 8s 93ms/step - loss: 0.0416 - accuracy: 0.9879 - val_loss: 0.6080 - val_accuracy: 0.8946\n",
            "Epoch 89/100\n",
            "83/83 [==============================] - 8s 96ms/step - loss: 0.0503 - accuracy: 0.9856 - val_loss: 0.7653 - val_accuracy: 0.8946\n",
            "Epoch 90/100\n",
            "83/83 [==============================] - 8s 96ms/step - loss: 0.0977 - accuracy: 0.9758 - val_loss: 0.5150 - val_accuracy: 0.8980\n",
            "Epoch 91/100\n",
            "83/83 [==============================] - 8s 93ms/step - loss: 0.0183 - accuracy: 0.9924 - val_loss: 0.7910 - val_accuracy: 0.9014\n",
            "Epoch 92/100\n",
            "83/83 [==============================] - 8s 95ms/step - loss: 0.1921 - accuracy: 0.9569 - val_loss: 0.5469 - val_accuracy: 0.8878\n",
            "Epoch 93/100\n",
            "83/83 [==============================] - 8s 96ms/step - loss: 0.0585 - accuracy: 0.9803 - val_loss: 0.4724 - val_accuracy: 0.8980\n",
            "Epoch 94/100\n",
            "83/83 [==============================] - 8s 96ms/step - loss: 0.0274 - accuracy: 0.9913 - val_loss: 0.6005 - val_accuracy: 0.9184\n",
            "Epoch 95/100\n",
            "83/83 [==============================] - 8s 95ms/step - loss: 0.0412 - accuracy: 0.9921 - val_loss: 0.8697 - val_accuracy: 0.9014\n",
            "Epoch 96/100\n",
            "83/83 [==============================] - 8s 93ms/step - loss: 0.0620 - accuracy: 0.9845 - val_loss: 0.5412 - val_accuracy: 0.8912\n",
            "Epoch 97/100\n",
            "83/83 [==============================] - 8s 95ms/step - loss: 0.0120 - accuracy: 0.9962 - val_loss: 0.6185 - val_accuracy: 0.9184\n",
            "Epoch 98/100\n",
            "83/83 [==============================] - 8s 95ms/step - loss: 0.0220 - accuracy: 0.9943 - val_loss: 0.7036 - val_accuracy: 0.9048\n",
            "Epoch 99/100\n",
            "83/83 [==============================] - 8s 93ms/step - loss: 0.0223 - accuracy: 0.9932 - val_loss: 0.5884 - val_accuracy: 0.8912\n",
            "Epoch 100/100\n",
            "83/83 [==============================] - 8s 96ms/step - loss: 0.0552 - accuracy: 0.9909 - val_loss: 0.4292 - val_accuracy: 0.9082\n"
          ]
        }
      ]
    },
    {
      "cell_type": "code",
      "source": [
        "input_image_path = input('Path of the image to be predicted: ')\n",
        "\n",
        "input_image = cv2.imread(input_image_path)\n",
        "\n",
        "cv2_imshow(input_image)\n",
        "\n",
        "input_image_resized = cv2.resize(input_image, (150,150))\n",
        "\n",
        "input_image_scaled = input_image_resized/255\n",
        "\n",
        "input_image_reshaped = np.reshape(input_image_scaled, [1,150,150,3])\n",
        "\n",
        "input_prediction = model.predict(input_image_reshaped)\n",
        "\n",
        "print(input_prediction)\n",
        "\n",
        "\n",
        "input_pred_label = np.argmax(input_prediction)\n",
        "\n",
        "print(input_pred_label)\n",
        "\n",
        "\n",
        "if input_pred_label == 0:\n",
        "\n",
        "  print('GLIOMA')\n",
        "\n",
        "elif input_pred_label ==1:\n",
        "\n",
        "  print('MENIGIOMA')\n",
        "elif input_pred_label ==2:\n",
        "  print('NO')\n",
        "elif input_pred_label ==3:\n",
        "  print('PITUITARY')"
      ],
      "metadata": {
        "id": "fIR-U5f3qmRd",
        "colab": {
          "base_uri": "https://localhost:8080/",
          "height": 353
        },
        "outputId": "aa897cf8-acc6-4a58-bc42-45a9ab87cab0"
      },
      "execution_count": null,
      "outputs": [
        {
          "name": "stdout",
          "output_type": "stream",
          "text": [
            "Path of the image to be predicted: /content/Testing/glioma_tumor/image(30).jpg\n"
          ]
        },
        {
          "output_type": "display_data",
          "data": {
            "text/plain": [
              "<PIL.Image.Image image mode=RGB size=200x249 at 0x7F31D97E8A00>"
            ],
            "image/png": "[encoded data removed]"
          },
          "metadata": {}
        },
        {
          "output_type": "stream",
          "name": "stdout",
          "text": [
            "1/1 [==============================] - 0s 21ms/step\n",
            "[[0.11230821 0.04498511 0.76431865 0.07838801]]\n",
            "2\n",
            "NO\n"
          ]
        }
      ]
    },
    {
      "cell_type": "code",
      "source": [],
      "metadata": {
        "id": "khcKVJFrfNDF"
      },
      "execution_count": null,
      "outputs": []
    }
  ]
}