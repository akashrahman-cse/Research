{
  "nbformat": 4,
  "nbformat_minor": 0,
  "metadata": {
    "colab": {
      "provenance": [],
      "gpuType": "T4"
    },
    "kernelspec": {
      "name": "python3",
      "display_name": "Python 3"
    },
    "language_info": {
      "name": "python"
    },
    "accelerator": "GPU"
  },
  "cells": [
    {
      "cell_type": "code",
      "source": [
        "from google.colab import drive\n",
        "drive.mount('/content/drive')"
      ],
      "metadata": {
        "colab": {
          "base_uri": "https://localhost:8080/"
        },
        "id": "hMUjW-UXngqp",
        "outputId": "634c4a86-9394-4554-d18a-c20a24133821"
      },
      "execution_count": null,
      "outputs": [
        {
          "output_type": "stream",
          "name": "stdout",
          "text": [
            "Mounted at /content/drive\n"
          ]
        }
      ]
    },
    {
      "cell_type": "code",
      "source": [
        "import pandas as pd\n",
        "import numpy as np\n",
        "import re\n",
        "import nltk\n",
        "from nltk.corpus import stopwords\n",
        "from numpy import array\n",
        "import tensorflow as tf\n",
        "from keras.preprocessing.text import one_hot, Tokenizer\n",
        "from keras.models import Sequential\n",
        "from keras.layers import Flatten, GlobalMaxPooling1D, Embedding, Conv1D, LSTM\n",
        "from sklearn.model_selection import train_test_split"
      ],
      "metadata": {
        "id": "DYPjs7kkWsT1"
      },
      "execution_count": null,
      "outputs": []
    },
    {
      "cell_type": "code",
      "source": [
        "Data = pd.read_excel(\"/content/drive/MyDrive/Dataset/Product Review/Product Review Sentiment Analysis.xlsx\")"
      ],
      "metadata": {
        "id": "36XaS_ddnwDm"
      },
      "execution_count": null,
      "outputs": []
    },
    {
      "cell_type": "code",
      "source": [
        "Data.head()"
      ],
      "metadata": {
        "colab": {
          "base_uri": "https://localhost:8080/",
          "height": 206
        },
        "id": "9oOtnWAToeLb",
        "outputId": "f8340a31-963b-4221-8425-211ee9ccc62d"
      },
      "execution_count": null,
      "outputs": [
        {
          "output_type": "execute_result",
          "data": {
            "text/plain": [
              "                                             Reviews Sentiments\n",
              "0  লটির পো ) ভালোই প্রথম দিনেই বেশ বড় সাইজের একটা...  Negative \n",
              "1  এদের কাছ থেকে প্রডাক্ট নেওয়ার থেকে বাড়া  নিজে ...  Negative \n",
              "2  অডার করছিলাম ৪ বা ৫ তারিখ হতে বাড়া  পারে তার প...  Negative \n",
              "3                  হারামজাদা | বক্স ভিজা ছিল বাড়া  `  Negative \n",
              "4     বোতলের মুখ ভাংগা ছিল পুরাই ফালতু _ হারামজাদা -  Negative "
            ],
            "text/html": [
              "\n",
              "  <div id=\"df-6cd34730-c07f-4e1c-95e0-d65f260f1ed2\" class=\"colab-df-container\">\n",
              "    <div>\n",
              "<style scoped>\n",
              "    .dataframe tbody tr th:only-of-type {\n",
              "        vertical-align: middle;\n",
              "    }\n",
              "\n",
              "    .dataframe tbody tr th {\n",
              "        vertical-align: top;\n",
              "    }\n",
              "\n",
              "    .dataframe thead th {\n",
              "        text-align: right;\n",
              "    }\n",
              "</style>\n",
              "<table border=\"1\" class=\"dataframe\">\n",
              "  <thead>\n",
              "    <tr style=\"text-align: right;\">\n",
              "      <th></th>\n",
              "      <th>Reviews</th>\n",
              "      <th>Sentiments</th>\n",
              "    </tr>\n",
              "  </thead>\n",
              "  <tbody>\n",
              "    <tr>\n",
              "      <th>0</th>\n",
              "      <td>লটির পো ) ভালোই প্রথম দিনেই বেশ বড় সাইজের একটা...</td>\n",
              "      <td>Negative</td>\n",
              "    </tr>\n",
              "    <tr>\n",
              "      <th>1</th>\n",
              "      <td>এদের কাছ থেকে প্রডাক্ট নেওয়ার থেকে বাড়া  নিজে ...</td>\n",
              "      <td>Negative</td>\n",
              "    </tr>\n",
              "    <tr>\n",
              "      <th>2</th>\n",
              "      <td>অডার করছিলাম ৪ বা ৫ তারিখ হতে বাড়া  পারে তার প...</td>\n",
              "      <td>Negative</td>\n",
              "    </tr>\n",
              "    <tr>\n",
              "      <th>3</th>\n",
              "      <td>হারামজাদা | বক্স ভিজা ছিল বাড়া  `</td>\n",
              "      <td>Negative</td>\n",
              "    </tr>\n",
              "    <tr>\n",
              "      <th>4</th>\n",
              "      <td>বোতলের মুখ ভাংগা ছিল পুরাই ফালতু _ হারামজাদা -</td>\n",
              "      <td>Negative</td>\n",
              "    </tr>\n",
              "  </tbody>\n",
              "</table>\n",
              "</div>\n",
              "    <div class=\"colab-df-buttons\">\n",
              "\n",
              "  <div class=\"colab-df-container\">\n",
              "    <button class=\"colab-df-convert\" onclick=\"convertToInteractive('df-6cd34730-c07f-4e1c-95e0-d65f260f1ed2')\"\n",
              "            title=\"Convert this dataframe to an interactive table.\"\n",
              "            style=\"display:none;\">\n",
              "\n",
              "  <svg xmlns=\"http://www.w3.org/2000/svg\" height=\"24px\" viewBox=\"0 -960 960 960\">\n",
              "    <path d=\"M120-120v-720h720v720H120Zm60-500h600v-160H180v160Zm220 220h160v-160H400v160Zm0 220h160v-160H400v160ZM180-400h160v-160H180v160Zm440 0h160v-160H620v160ZM180-180h160v-160H180v160Zm440 0h160v-160H620v160Z\"/>\n",
              "  </svg>\n",
              "    </button>\n",
              "\n",
              "  <style>\n",
              "    .colab-df-container {\n",
              "      display:flex;\n",
              "      gap: 12px;\n",
              "    }\n",
              "\n",
              "    .colab-df-convert {\n",
              "      background-color: #E8F0FE;\n",
              "      border: none;\n",
              "      border-radius: 50%;\n",
              "      cursor: pointer;\n",
              "      display: none;\n",
              "      fill: #1967D2;\n",
              "      height: 32px;\n",
              "      padding: 0 0 0 0;\n",
              "      width: 32px;\n",
              "    }\n",
              "\n",
              "    .colab-df-convert:hover {\n",
              "      background-color: #E2EBFA;\n",
              "      box-shadow: 0px 1px 2px rgba(60, 64, 67, 0.3), 0px 1px 3px 1px rgba(60, 64, 67, 0.15);\n",
              "      fill: #174EA6;\n",
              "    }\n",
              "\n",
              "    .colab-df-buttons div {\n",
              "      margin-bottom: 4px;\n",
              "    }\n",
              "\n",
              "    [theme=dark] .colab-df-convert {\n",
              "      background-color: #3B4455;\n",
              "      fill: #D2E3FC;\n",
              "    }\n",
              "\n",
              "    [theme=dark] .colab-df-convert:hover {\n",
              "      background-color: #434B5C;\n",
              "      box-shadow: 0px 1px 3px 1px rgba(0, 0, 0, 0.15);\n",
              "      filter: drop-shadow(0px 1px 2px rgba(0, 0, 0, 0.3));\n",
              "      fill: #FFFFFF;\n",
              "    }\n",
              "  </style>\n",
              "\n",
              "    <script>\n",
              "      const buttonEl =\n",
              "        document.querySelector('#df-6cd34730-c07f-4e1c-95e0-d65f260f1ed2 button.colab-df-convert');\n",
              "      buttonEl.style.display =\n",
              "        google.colab.kernel.accessAllowed ? 'block' : 'none';\n",
              "\n",
              "      async function convertToInteractive(key) {\n",
              "        const element = document.querySelector('#df-6cd34730-c07f-4e1c-95e0-d65f260f1ed2');\n",
              "        const dataTable =\n",
              "          await google.colab.kernel.invokeFunction('convertToInteractive',\n",
              "                                                    [key], {});\n",
              "        if (!dataTable) return;\n",
              "\n",
              "        const docLinkHtml = 'Like what you see? Visit the ' +\n",
              "          '<a target=\"_blank\" href=https://colab.research.google.com/notebooks/data_table.ipynb>data table notebook</a>'\n",
              "          + ' to learn more about interactive tables.';\n",
              "        element.innerHTML = '';\n",
              "        dataTable['output_type'] = 'display_data';\n",
              "        await google.colab.output.renderOutput(dataTable, element);\n",
              "        const docLink = document.createElement('div');\n",
              "        docLink.innerHTML = docLinkHtml;\n",
              "        element.appendChild(docLink);\n",
              "      }\n",
              "    </script>\n",
              "  </div>\n",
              "\n",
              "\n",
              "<div id=\"df-1ff14c87-857e-4b33-91d9-ebacb6c2b0da\">\n",
              "  <button class=\"colab-df-quickchart\" onclick=\"quickchart('df-1ff14c87-857e-4b33-91d9-ebacb6c2b0da')\"\n",
              "            title=\"Suggest charts\"\n",
              "            style=\"display:none;\">\n",
              "\n",
              "<svg xmlns=\"http://www.w3.org/2000/svg\" height=\"24px\"viewBox=\"0 0 24 24\"\n",
              "     width=\"24px\">\n",
              "    <g>\n",
              "        <path d=\"M19 3H5c-1.1 0-2 .9-2 2v14c0 1.1.9 2 2 2h14c1.1 0 2-.9 2-2V5c0-1.1-.9-2-2-2zM9 17H7v-7h2v7zm4 0h-2V7h2v10zm4 0h-2v-4h2v4z\"/>\n",
              "    </g>\n",
              "</svg>\n",
              "  </button>\n",
              "\n",
              "<style>\n",
              "  .colab-df-quickchart {\n",
              "      --bg-color: #E8F0FE;\n",
              "      --fill-color: #1967D2;\n",
              "      --hover-bg-color: #E2EBFA;\n",
              "      --hover-fill-color: #174EA6;\n",
              "      --disabled-fill-color: #AAA;\n",
              "      --disabled-bg-color: #DDD;\n",
              "  }\n",
              "\n",
              "  [theme=dark] .colab-df-quickchart {\n",
              "      --bg-color: #3B4455;\n",
              "      --fill-color: #D2E3FC;\n",
              "      --hover-bg-color: #434B5C;\n",
              "      --hover-fill-color: #FFFFFF;\n",
              "      --disabled-bg-color: #3B4455;\n",
              "      --disabled-fill-color: #666;\n",
              "  }\n",
              "\n",
              "  .colab-df-quickchart {\n",
              "    background-color: var(--bg-color);\n",
              "    border: none;\n",
              "    border-radius: 50%;\n",
              "    cursor: pointer;\n",
              "    display: none;\n",
              "    fill: var(--fill-color);\n",
              "    height: 32px;\n",
              "    padding: 0;\n",
              "    width: 32px;\n",
              "  }\n",
              "\n",
              "  .colab-df-quickchart:hover {\n",
              "    background-color: var(--hover-bg-color);\n",
              "    box-shadow: 0 1px 2px rgba(60, 64, 67, 0.3), 0 1px 3px 1px rgba(60, 64, 67, 0.15);\n",
              "    fill: var(--button-hover-fill-color);\n",
              "  }\n",
              "\n",
              "  .colab-df-quickchart-complete:disabled,\n",
              "  .colab-df-quickchart-complete:disabled:hover {\n",
              "    background-color: var(--disabled-bg-color);\n",
              "    fill: var(--disabled-fill-color);\n",
              "    box-shadow: none;\n",
              "  }\n",
              "\n",
              "  .colab-df-spinner {\n",
              "    border: 2px solid var(--fill-color);\n",
              "    border-color: transparent;\n",
              "    border-bottom-color: var(--fill-color);\n",
              "    animation:\n",
              "      spin 1s steps(1) infinite;\n",
              "  }\n",
              "\n",
              "  @keyframes spin {\n",
              "    0% {\n",
              "      border-color: transparent;\n",
              "      border-bottom-color: var(--fill-color);\n",
              "      border-left-color: var(--fill-color);\n",
              "    }\n",
              "    20% {\n",
              "      border-color: transparent;\n",
              "      border-left-color: var(--fill-color);\n",
              "      border-top-color: var(--fill-color);\n",
              "    }\n",
              "    30% {\n",
              "      border-color: transparent;\n",
              "      border-left-color: var(--fill-color);\n",
              "      border-top-color: var(--fill-color);\n",
              "      border-right-color: var(--fill-color);\n",
              "    }\n",
              "    40% {\n",
              "      border-color: transparent;\n",
              "      border-right-color: var(--fill-color);\n",
              "      border-top-color: var(--fill-color);\n",
              "    }\n",
              "    60% {\n",
              "      border-color: transparent;\n",
              "      border-right-color: var(--fill-color);\n",
              "    }\n",
              "    80% {\n",
              "      border-color: transparent;\n",
              "      border-right-color: var(--fill-color);\n",
              "      border-bottom-color: var(--fill-color);\n",
              "    }\n",
              "    90% {\n",
              "      border-color: transparent;\n",
              "      border-bottom-color: var(--fill-color);\n",
              "    }\n",
              "  }\n",
              "</style>\n",
              "\n",
              "  <script>\n",
              "    async function quickchart(key) {\n",
              "      const quickchartButtonEl =\n",
              "        document.querySelector('#' + key + ' button');\n",
              "      quickchartButtonEl.disabled = true;  // To prevent multiple clicks.\n",
              "      quickchartButtonEl.classList.add('colab-df-spinner');\n",
              "      try {\n",
              "        const charts = await google.colab.kernel.invokeFunction(\n",
              "            'suggestCharts', [key], {});\n",
              "      } catch (error) {\n",
              "        console.error('Error during call to suggestCharts:', error);\n",
              "      }\n",
              "      quickchartButtonEl.classList.remove('colab-df-spinner');\n",
              "      quickchartButtonEl.classList.add('colab-df-quickchart-complete');\n",
              "    }\n",
              "    (() => {\n",
              "      let quickchartButtonEl =\n",
              "        document.querySelector('#df-1ff14c87-857e-4b33-91d9-ebacb6c2b0da button');\n",
              "      quickchartButtonEl.style.display =\n",
              "        google.colab.kernel.accessAllowed ? 'block' : 'none';\n",
              "    })();\n",
              "  </script>\n",
              "</div>\n",
              "\n",
              "    </div>\n",
              "  </div>\n"
            ],
            "application/vnd.google.colaboratory.intrinsic+json": {
              "type": "dataframe",
              "variable_name": "Data",
              "summary": "{\n  \"name\": \"Data\",\n  \"rows\": 3572,\n  \"fields\": [\n    {\n      \"column\": \"Reviews\",\n      \"properties\": {\n        \"dtype\": \"string\",\n        \"num_unique_values\": 3568,\n        \"samples\": [\n          \"\\u0997\\u09c1\\u09df\\u09be\\u09b0 \\u09ad\\u09bf\\u09a4\\u09b0\\u09c7 / \\u09b9\\u09cb\\u0997\\u09be\\u09b0 \\u09ad\\u09bf\\u09a4\\u09b0\\u09c7 \\u09ad\\u0987\\u09dc\\u09be \\u09a6\\u09bf\\u09ae\\u09c1\\u2026 ' \\u09ad\\u09a3\\u09cd\\u09a1\\u09be\\u09ae\\u09bf \\u09ac\\u09be\\u09a6 \\u09a6\\u09c7  )\",\n          \"\\u09a7\\u09a8\\u09cd\\u09af\\u09ac\\u09be\\u09a6 ` \\u0986\\u09ae\\u09be\\u09b0 \\u0995\\u09be\\u099b\\u09c7 \\u09aa\\u09c7\\u09af\\u09bc\\u09c7\\u099b\\u09bf - \\u098f\\u099f\\u09bf \\u09b8\\u09c7\\u09b0\\u09be \\u0985\\u09cd\\u09af\\u09be\\u0995\\u09b6\\u09a8 \\u0995\\u09cd\\u09af\\u09be\\u09ae\\u09c7\\u09b0\\u09be _\",\n          \"\\u09ae\\u09be\\u0999\\u09cd\\u0997\\u09bf\\u09b0 \\u09aa\\u09c1\\u09a4 \\\" \\u09ac\\u09be\\u099c\\u09c7 \\u099c\\u09bf\\u09a8\\u09bf\\u09b8  (\"\n        ],\n        \"semantic_type\": \"\",\n        \"description\": \"\"\n      }\n    },\n    {\n      \"column\": \"Sentiments\",\n      \"properties\": {\n        \"dtype\": \"category\",\n        \"num_unique_values\": 2,\n        \"samples\": [\n          \"Positive\",\n          \"Negative \"\n        ],\n        \"semantic_type\": \"\",\n        \"description\": \"\"\n      }\n    }\n  ]\n}"
            }
          },
          "metadata": {},
          "execution_count": 7
        }
      ]
    },
    {
      "cell_type": "code",
      "source": [
        "Data.shape"
      ],
      "metadata": {
        "colab": {
          "base_uri": "https://localhost:8080/"
        },
        "id": "F5ur0KpXZ7-R",
        "outputId": "972e9dd6-719f-4b66-89db-4940beb4a46f"
      },
      "execution_count": null,
      "outputs": [
        {
          "output_type": "execute_result",
          "data": {
            "text/plain": [
              "(3572, 2)"
            ]
          },
          "metadata": {},
          "execution_count": 8
        }
      ]
    },
    {
      "cell_type": "code",
      "source": [
        "Data['Sentiments'].unique()"
      ],
      "metadata": {
        "colab": {
          "base_uri": "https://localhost:8080/"
        },
        "id": "nXCurOjvae4s",
        "outputId": "39ef4a46-79bf-4d34-c9bc-5eef0e8081dd"
      },
      "execution_count": null,
      "outputs": [
        {
          "output_type": "execute_result",
          "data": {
            "text/plain": [
              "array(['Negative ', 'Positive'], dtype=object)"
            ]
          },
          "metadata": {},
          "execution_count": 21
        }
      ]
    },
    {
      "cell_type": "code",
      "source": [
        "import seaborn as sns\n",
        "import matplotlib.pyplot as plt\n",
        "\n",
        "# Define color palette\n",
        "colors = {'negative': 'red', 'positive': 'green'}\n",
        "\n",
        "# Plot the count of sentiments with specified palette\n",
        "sns.countplot(x='Sentiments', data=Data, palette=colors.values())  # Pass values of the colors dictionary\n",
        "\n",
        "# Set labels and title\n",
        "plt.xlabel('Sentiments')\n",
        "plt.ylabel('Count')\n",
        "plt.title('Distribution of Sentiments')\n",
        "\n",
        "# Show the plot\n",
        "plt.show()\n"
      ],
      "metadata": {
        "colab": {
          "base_uri": "https://localhost:8080/",
          "height": 559
        },
        "id": "c6Gd51dd8Gjd",
        "outputId": "e63a50db-2425-4183-8ae2-dc372408dc84"
      },
      "execution_count": null,
      "outputs": [
        {
          "output_type": "stream",
          "name": "stderr",
          "text": [
            "<ipython-input-9-79b6d9e1af22>:8: FutureWarning: \n",
            "\n",
            "Passing `palette` without assigning `hue` is deprecated and will be removed in v0.14.0. Assign the `x` variable to `hue` and set `legend=False` for the same effect.\n",
            "\n",
            "  sns.countplot(x='Sentiments', data=Data, palette=colors.values())  # Pass values of the colors dictionary\n"
          ]
        },
        {
          "output_type": "display_data",
          "data": {
            "text/plain": [
              "<Figure size 640x480 with 1 Axes>"
            ],
            "image/png": "[encoded data removed]"
          },
          "metadata": {}
        }
      ]
    },
    {
      "cell_type": "code",
      "source": [
        "import string\n",
        "import re\n",
        "# Function to preprocess text\n",
        "def preprocess_text(text):\n",
        "    # Remove HTML tags\n",
        "    text = re.sub('<[^<]+?>', '', text)\n",
        "    # Remove URLs\n",
        "    text = re.sub(r'http\\S+', '', text)\n",
        "    # Remove punctuation\n",
        "    translator = str.maketrans('', '', string.punctuation)\n",
        "    text = text.translate(translator)\n",
        "    # Remove single characters\n",
        "    text = ' '.join([word for word in text.split() if len(word) > 1])\n",
        "    # Remove multiple spaces\n",
        "    text = re.sub(r'\\s+', ' ', text)\n",
        "    # Remove numbers\n",
        "    text = re.sub(r'\\d+', '', text)\n",
        "    # Remove leading and trailing spaces\n",
        "    text = text.strip()\n",
        "    return text\n",
        "\n",
        "# Apply preprocessing to the 'Reviews' column\n",
        "Data['Reviews'] = Data['Reviews'].apply(lambda x: preprocess_text(x) if pd.notnull(x) else x)\n",
        "\n",
        "# Display the updated DataFrame\n",
        "print(Data)\n"
      ],
      "metadata": {
        "colab": {
          "base_uri": "https://localhost:8080/"
        },
        "id": "z2hjM4nfhUBw",
        "outputId": "4f0b0909-4a6a-431c-a455-ab286e1f7584"
      },
      "execution_count": null,
      "outputs": [
        {
          "output_type": "stream",
          "name": "stdout",
          "text": [
            "                                                Reviews Sentiments\n",
            "0     লটির পো ভালোই প্রথম দিনেই বেশ বড় সাইজের একটা ধ...  Negative \n",
            "1     এদের কাছ থেকে প্রডাক্ট নেওয়ার থেকে বাড়া নিজে গ...  Negative \n",
            "2     অডার করছিলাম বা তারিখ হতে বাড়া পারে তার পরে ক্...  Negative \n",
            "3                          হারামজাদা বক্স ভিজা ছিল বাড়া  Negative \n",
            "4            বোতলের মুখ ভাংগা ছিল পুরাই ফালতু হারামজাদা  Negative \n",
            "...                                                 ...        ...\n",
            "3567  আলহামদুলিল্লাহ বীজ সঠিক সময়ে হাতে পেয়েছি ভালোই...   Positive\n",
            "3568  যা ভেবেছিলাম তারচেয়ে অনেক ভালো ধন্যবাদ আমার ভা...   Positive\n",
            "3569  ভালোই ছিলো প্যাকেজিং  টা ম্যাস্ক ছিলো সিল দেয়া...   Positive\n",
            "3570                       খুব ভালো মানের মাক্স অসাধারণ   Positive\n",
            "3571        চোখ বন্ধ করে কিনে ফালান অনেক ভালো খুবই ভালো   Positive\n",
            "\n",
            "[3572 rows x 2 columns]\n"
          ]
        }
      ]
    },
    {
      "cell_type": "code",
      "source": [],
      "metadata": {
        "id": "r6j0MPf8h0qe"
      },
      "execution_count": null,
      "outputs": []
    },
    {
      "cell_type": "code",
      "source": [
        "import pandas as pd\n",
        "import nltk\n",
        "from nltk.corpus import stopwords\n",
        "from nltk.tokenize import word_tokenize\n",
        "\n",
        "# Download NLTK data (you only need to do this once)\n",
        "nltk.download('punkt')\n",
        "nltk.download('stopwords')\n",
        "\n",
        "# Provided list of Bangla stopwords\n",
        "bangla_stopwords = [\n",
        "    'এই', 'সে', 'এ', 'তার', 'যে', 'আমাদের', 'তাদের', 'আমরা', 'তোমরা',\n",
        "    'তুমি', 'তারা', 'যার', 'কোন', 'কিছু', 'এক', 'অনেক', 'অধিক', 'সব',\n",
        "    'কত', 'কোথায়'\n",
        "]\n",
        "\n",
        "# Function to remove stopwords from Bangla text\n",
        "def remove_stopwords(text):\n",
        "    # Tokenize the text\n",
        "    words = word_tokenize(text)\n",
        "    # Remove stopwords\n",
        "    filtered_words = [word for word in words if word.lower() not in bangla_stopwords]\n",
        "    # Join the words back into a string\n",
        "    filtered_text = ' '.join(filtered_words)\n",
        "    return filtered_text\n",
        "\n",
        "# Apply stopword removal to the 'Reviews' column\n",
        "Data['Cleaned_Reviews'] = Data['Reviews'].apply(remove_stopwords)\n",
        "\n",
        "# Print the cleaned dataset\n",
        "print(Data[['Reviews', 'Cleaned_Reviews']])\n"
      ],
      "metadata": {
        "colab": {
          "base_uri": "https://localhost:8080/"
        },
        "id": "9tyMT55Ec4yC",
        "outputId": "ebbd68d8-cdc4-46e3-ed7a-3bd0dd755a72"
      },
      "execution_count": null,
      "outputs": [
        {
          "output_type": "stream",
          "name": "stderr",
          "text": [
            "[nltk_data] Downloading package punkt to /root/nltk_data...\n",
            "[nltk_data]   Package punkt is already up-to-date!\n",
            "[nltk_data] Downloading package stopwords to /root/nltk_data...\n",
            "[nltk_data]   Package stopwords is already up-to-date!\n"
          ]
        },
        {
          "output_type": "stream",
          "name": "stdout",
          "text": [
            "                                                Reviews  \\\n",
            "0     লটির পো ভালোই প্রথম দিনেই বেশ বড় সাইজের একটা ধ...   \n",
            "1     এদের কাছ থেকে প্রডাক্ট নেওয়ার থেকে বাড়া নিজে গ...   \n",
            "2     অডার করছিলাম বা তারিখ হতে বাড়া পারে তার পরে ক্...   \n",
            "3                          হারামজাদা বক্স ভিজা ছিল বাড়া   \n",
            "4            বোতলের মুখ ভাংগা ছিল পুরাই ফালতু হারামজাদা   \n",
            "...                                                 ...   \n",
            "3567  আলহামদুলিল্লাহ বীজ সঠিক সময়ে হাতে পেয়েছি ভালোই...   \n",
            "3568  যা ভেবেছিলাম তারচেয়ে অনেক ভালো ধন্যবাদ আমার ভা...   \n",
            "3569  ভালোই ছিলো প্যাকেজিং  টা ম্যাস্ক ছিলো সিল দেয়া...   \n",
            "3570                       খুব ভালো মানের মাক্স অসাধারণ   \n",
            "3571        চোখ বন্ধ করে কিনে ফালান অনেক ভালো খুবই ভালো   \n",
            "\n",
            "                                        Cleaned_Reviews  \n",
            "0     লটির পো ভালোই প্রথম দিনেই বেশ বড় সাইজের একটা ধ...  \n",
            "1     এদের কাছ থেকে প্রডাক্ট নেওয়ার থেকে বাড়া নিজে গ...  \n",
            "2     অডার করছিলাম বা তারিখ হতে বাড়া পারে পরে ক্যনছে...  \n",
            "3                          হারামজাদা বক্স ভিজা ছিল বাড়া  \n",
            "4            বোতলের মুখ ভাংগা ছিল পুরাই ফালতু হারামজাদা  \n",
            "...                                                 ...  \n",
            "3567  আলহামদুলিল্লাহ বীজ সঠিক সময়ে হাতে পেয়েছি ভালোই...  \n",
            "3568  যা ভেবেছিলাম তারচেয়ে ভালো ধন্যবাদ আমার ভালো লে...  \n",
            "3569  ভালোই ছিলো প্যাকেজিং টা ম্যাস্ক ছিলো সিল দেয়া ...  \n",
            "3570                       খুব ভালো মানের মাক্স অসাধারণ  \n",
            "3571             চোখ বন্ধ করে কিনে ফালান ভালো খুবই ভালো  \n",
            "\n",
            "[3572 rows x 2 columns]\n"
          ]
        }
      ]
    },
    {
      "cell_type": "code",
      "source": [
        "import string\n",
        "import pandas as pd\n",
        "from nltk.tokenize import word_tokenize\n",
        "\n",
        "text_column_name = 'Reviews'\n",
        "\n",
        "# Function to tokenize text\n",
        "def tokenize_text(text):\n",
        "    # Remove punctuation\n",
        "    translator = str.maketrans('', '', string.punctuation)\n",
        "    text = text.translate(translator)\n",
        "\n",
        "    # Tokenize the text into individual words\n",
        "    tokens = word_tokenize(text)\n",
        "\n",
        "    return tokens\n",
        "\n",
        "# Apply the tokenize_text function to the desired column\n",
        "Data['Tokenized_Reviews'] = Data['Reviews'].apply(lambda x: tokenize_text(x) if pd.notnull(x) else x)\n",
        "\n",
        "# Display the updated DataFrame with tokenized reviews\n",
        "print(Data[['Reviews', 'Tokenized_Reviews']])\n"
      ],
      "metadata": {
        "colab": {
          "base_uri": "https://localhost:8080/"
        },
        "id": "u6pmNmRRg3kA",
        "outputId": "7a45c469-0f76-429a-a9d8-ade44ae87d88"
      },
      "execution_count": null,
      "outputs": [
        {
          "output_type": "stream",
          "name": "stdout",
          "text": [
            "                                                Reviews  \\\n",
            "0     লটির পো ভালোই প্রথম দিনেই বেশ বড় সাইজের একটা ধ...   \n",
            "1     এদের কাছ থেকে প্রডাক্ট নেওয়ার থেকে বাড়া নিজে গ...   \n",
            "2     অডার করছিলাম বা তারিখ হতে বাড়া পারে তার পরে ক্...   \n",
            "3                          হারামজাদা বক্স ভিজা ছিল বাড়া   \n",
            "4            বোতলের মুখ ভাংগা ছিল পুরাই ফালতু হারামজাদা   \n",
            "...                                                 ...   \n",
            "3567  আলহামদুলিল্লাহ বীজ সঠিক সময়ে হাতে পেয়েছি ভালোই...   \n",
            "3568  যা ভেবেছিলাম তারচেয়ে অনেক ভালো ধন্যবাদ আমার ভা...   \n",
            "3569  ভালোই ছিলো প্যাকেজিং  টা ম্যাস্ক ছিলো সিল দেয়া...   \n",
            "3570                       খুব ভালো মানের মাক্স অসাধারণ   \n",
            "3571        চোখ বন্ধ করে কিনে ফালান অনেক ভালো খুবই ভালো   \n",
            "\n",
            "                                      Tokenized_Reviews  \n",
            "0     [লটির, পো, ভালোই, প্রথম, দিনেই, বেশ, বড়, সাইজে...  \n",
            "1     [এদের, কাছ, থেকে, প্রডাক্ট, নেওয়ার, থেকে, বাড়া...  \n",
            "2     [অডার, করছিলাম, বা, তারিখ, হতে, বাড়া, পারে, তা...  \n",
            "3                    [হারামজাদা, বক্স, ভিজা, ছিল, বাড়া]  \n",
            "4     [বোতলের, মুখ, ভাংগা, ছিল, পুরাই, ফালতু, হারামজ...  \n",
            "...                                                 ...  \n",
            "3567  [আলহামদুলিল্লাহ, বীজ, সঠিক, সময়ে, হাতে, পেয়েছি...  \n",
            "3568  [যা, ভেবেছিলাম, তারচেয়ে, অনেক, ভালো, ধন্যবাদ, ...  \n",
            "3569  [ভালোই, ছিলো, প্যাকেজিং, টা, ম্যাস্ক, ছিলো, সি...  \n",
            "3570                 [খুব, ভালো, মানের, মাক্স, অসাধারণ]  \n",
            "3571  [চোখ, বন্ধ, করে, কিনে, ফালান, অনেক, ভালো, খুবই...  \n",
            "\n",
            "[3572 rows x 2 columns]\n"
          ]
        }
      ]
    },
    {
      "cell_type": "code",
      "source": [
        "from gensim.models import Word2Vec\n",
        "from nltk.tokenize import word_tokenize\n",
        "\n",
        "tokenized_reviews = Data['Tokenized_Reviews'].dropna().tolist()\n",
        "sentences = [text.split() for text in Data['Cleaned_Reviews']]\n",
        "# Set up the Word2Vec model\n",
        "model = Word2Vec(sentences=sentences, vector_size=100, window=5, min_count=1, workers=4)\n",
        "\n",
        "# Train the Word2Vec model\n",
        "model.train(sentences, total_examples=len(tokenized_reviews), epochs=10)\n",
        "\n",
        "# Save the trained Word2Vec model\n",
        "model.save(\"word2vec_model\")\n",
        "\n",
        "# You can later load the model using:\n",
        "# model = Word2Vec.load(\"word2vec_model\")\n",
        "\n",
        "# Accessing the vector representation of a word\n",
        "vector_representation = model.wv['হারামজাদা']\n",
        "print(\"Vector representation of 'হারামজাদা':\", vector_representation)"
      ],
      "metadata": {
        "id": "jGmzWz-rZhSE",
        "colab": {
          "base_uri": "https://localhost:8080/"
        },
        "outputId": "5cf13fc1-ec27-49f2-8164-312dd9ea7bb1"
      },
      "execution_count": null,
      "outputs": [
        {
          "output_type": "stream",
          "name": "stderr",
          "text": [
            "WARNING:gensim.models.word2vec:Effective 'alpha' higher than previous training cycles\n"
          ]
        },
        {
          "output_type": "stream",
          "name": "stdout",
          "text": [
            "Vector representation of 'হারামজাদা': [-0.23099582 -0.11906783  0.11310074 -0.44774356  0.37518993 -0.3832625\n",
            "  0.18941839  0.50282353 -0.05152494 -0.18356396 -0.14049003 -0.557369\n",
            " -0.25679496  0.11249284  0.21612212 -0.11821698 -0.1381452  -0.42481086\n",
            "  0.1705098  -0.57551646  0.04687592  0.19090131  0.1937356  -0.17338635\n",
            " -0.4164793   0.145739    0.01872473 -0.4855738  -0.20885567  0.03258311\n",
            "  0.13912307  0.20483209  0.03546245  0.02522171 -0.17507178  0.6309377\n",
            " -0.20773606 -0.5900084  -0.34501255 -0.35687715  0.12729056 -0.09087293\n",
            "  0.0511599  -0.07855451 -0.00903515 -0.16045646 -0.27935055 -0.16218185\n",
            "  0.293585    0.07740022  0.36284173 -0.17305791  0.2340704   0.02251259\n",
            " -0.03235829  0.2406724   0.27016297  0.45188686 -0.24259715 -0.08737908\n",
            " -0.20684423  0.18437323 -0.11826403  0.17315575 -0.58680725  0.11698252\n",
            "  0.06507082  0.00704988 -0.46642822  0.5341646  -0.14962518  0.08563193\n",
            "  0.16998415 -0.21223503  0.44125447 -0.12683353  0.05079084 -0.05495011\n",
            " -0.494301    0.2953387  -0.19068892  0.03810639 -0.2024238   0.6569526\n",
            " -0.15739131  0.23107222 -0.1096791   0.7078159   0.5218873  -0.1277844\n",
            "  0.4553206   0.68219626  0.09306087  0.23168395  0.69172245  0.49394676\n",
            "  0.29078543 -0.54686993  0.2974128  -0.06883656]\n"
          ]
        }
      ]
    },
    {
      "cell_type": "code",
      "source": [
        "def get_sentence_embedding(sentence, model, vector_size):\n",
        "    vectors = np.zeros((len(sentence), vector_size))\n",
        "    for i, word in enumerate(sentence):\n",
        "        if word in model.wv.key_to_index:\n",
        "            vectors[i] = model.wv[word]\n",
        "    if vectors.shape[0] > 0:\n",
        "        average_embedding = np.mean(vectors, axis=0)\n",
        "    else:\n",
        "        average_embedding = np.zeros(vector_size)\n",
        "    return average_embedding\n",
        "\n",
        "vector_size = 100\n",
        "Data['word2vec_embedding'] = [get_sentence_embedding(sentence, model, vector_size) for sentence in sentences]"
      ],
      "metadata": {
        "id": "Sdhzp1pcy6GG"
      },
      "execution_count": null,
      "outputs": []
    },
    {
      "cell_type": "code",
      "source": [
        "Data.head()"
      ],
      "metadata": {
        "colab": {
          "base_uri": "https://localhost:8080/",
          "height": 293
        },
        "id": "9BXf2qQ10DgX",
        "outputId": "8dcd55d0-ed00-46c2-eefd-c3162f8318fd"
      },
      "execution_count": null,
      "outputs": [
        {
          "output_type": "execute_result",
          "data": {
            "text/plain": [
              "                                             Reviews Sentiments  \\\n",
              "0  লটির পো ভালোই প্রথম দিনেই বেশ বড় সাইজের একটা ধ...  Negative    \n",
              "1  এদের কাছ থেকে প্রডাক্ট নেওয়ার থেকে বাড়া নিজে গ...  Negative    \n",
              "2  অডার করছিলাম বা তারিখ হতে বাড়া পারে তার পরে ক্...  Negative    \n",
              "3                       হারামজাদা বক্স ভিজা ছিল বাড়া  Negative    \n",
              "4         বোতলের মুখ ভাংগা ছিল পুরাই ফালতু হারামজাদা  Negative    \n",
              "\n",
              "                                     Cleaned_Reviews  \\\n",
              "0  লটির পো ভালোই প্রথম দিনেই বেশ বড় সাইজের একটা ধ...   \n",
              "1  এদের কাছ থেকে প্রডাক্ট নেওয়ার থেকে বাড়া নিজে গ...   \n",
              "2  অডার করছিলাম বা তারিখ হতে বাড়া পারে পরে ক্যনছে...   \n",
              "3                       হারামজাদা বক্স ভিজা ছিল বাড়া   \n",
              "4         বোতলের মুখ ভাংগা ছিল পুরাই ফালতু হারামজাদা   \n",
              "\n",
              "                                   Tokenized_Reviews  \\\n",
              "0  [লটির, পো, ভালোই, প্রথম, দিনেই, বেশ, বড়, সাইজে...   \n",
              "1  [এদের, কাছ, থেকে, প্রডাক্ট, নেওয়ার, থেকে, বাড়া...   \n",
              "2  [অডার, করছিলাম, বা, তারিখ, হতে, বাড়া, পারে, তা...   \n",
              "3                 [হারামজাদা, বক্স, ভিজা, ছিল, বাড়া]   \n",
              "4  [বোতলের, মুখ, ভাংগা, ছিল, পুরাই, ফালতু, হারামজ...   \n",
              "\n",
              "                                  word2vec_embedding  \n",
              "0  [-0.08161724121733145, 0.02078338492323052, 0....  \n",
              "1  [-0.14562519513336675, -0.04268932022698989, 0...  \n",
              "2  [-0.3217089559350695, -0.306032030887547, 0.01...  \n",
              "3  [-0.1245511669665575, -0.037575600668787956, 0...  \n",
              "4  [-0.12657262172017777, -0.061392387242189476, ...  "
            ],
            "text/html": [
              "\n",
              "  <div id=\"df-1f3b6bc6-e5be-49fa-85d0-1a85e90b238d\" class=\"colab-df-container\">\n",
              "    <div>\n",
              "<style scoped>\n",
              "    .dataframe tbody tr th:only-of-type {\n",
              "        vertical-align: middle;\n",
              "    }\n",
              "\n",
              "    .dataframe tbody tr th {\n",
              "        vertical-align: top;\n",
              "    }\n",
              "\n",
              "    .dataframe thead th {\n",
              "        text-align: right;\n",
              "    }\n",
              "</style>\n",
              "<table border=\"1\" class=\"dataframe\">\n",
              "  <thead>\n",
              "    <tr style=\"text-align: right;\">\n",
              "      <th></th>\n",
              "      <th>Reviews</th>\n",
              "      <th>Sentiments</th>\n",
              "      <th>Cleaned_Reviews</th>\n",
              "      <th>Tokenized_Reviews</th>\n",
              "      <th>word2vec_embedding</th>\n",
              "    </tr>\n",
              "  </thead>\n",
              "  <tbody>\n",
              "    <tr>\n",
              "      <th>0</th>\n",
              "      <td>লটির পো ভালোই প্রথম দিনেই বেশ বড় সাইজের একটা ধ...</td>\n",
              "      <td>Negative</td>\n",
              "      <td>লটির পো ভালোই প্রথম দিনেই বেশ বড় সাইজের একটা ধ...</td>\n",
              "      <td>[লটির, পো, ভালোই, প্রথম, দিনেই, বেশ, বড়, সাইজে...</td>\n",
              "      <td>[-0.08161724121733145, 0.02078338492323052, 0....</td>\n",
              "    </tr>\n",
              "    <tr>\n",
              "      <th>1</th>\n",
              "      <td>এদের কাছ থেকে প্রডাক্ট নেওয়ার থেকে বাড়া নিজে গ...</td>\n",
              "      <td>Negative</td>\n",
              "      <td>এদের কাছ থেকে প্রডাক্ট নেওয়ার থেকে বাড়া নিজে গ...</td>\n",
              "      <td>[এদের, কাছ, থেকে, প্রডাক্ট, নেওয়ার, থেকে, বাড়া...</td>\n",
              "      <td>[-0.14562519513336675, -0.04268932022698989, 0...</td>\n",
              "    </tr>\n",
              "    <tr>\n",
              "      <th>2</th>\n",
              "      <td>অডার করছিলাম বা তারিখ হতে বাড়া পারে তার পরে ক্...</td>\n",
              "      <td>Negative</td>\n",
              "      <td>অডার করছিলাম বা তারিখ হতে বাড়া পারে পরে ক্যনছে...</td>\n",
              "      <td>[অডার, করছিলাম, বা, তারিখ, হতে, বাড়া, পারে, তা...</td>\n",
              "      <td>[-0.3217089559350695, -0.306032030887547, 0.01...</td>\n",
              "    </tr>\n",
              "    <tr>\n",
              "      <th>3</th>\n",
              "      <td>হারামজাদা বক্স ভিজা ছিল বাড়া</td>\n",
              "      <td>Negative</td>\n",
              "      <td>হারামজাদা বক্স ভিজা ছিল বাড়া</td>\n",
              "      <td>[হারামজাদা, বক্স, ভিজা, ছিল, বাড়া]</td>\n",
              "      <td>[-0.1245511669665575, -0.037575600668787956, 0...</td>\n",
              "    </tr>\n",
              "    <tr>\n",
              "      <th>4</th>\n",
              "      <td>বোতলের মুখ ভাংগা ছিল পুরাই ফালতু হারামজাদা</td>\n",
              "      <td>Negative</td>\n",
              "      <td>বোতলের মুখ ভাংগা ছিল পুরাই ফালতু হারামজাদা</td>\n",
              "      <td>[বোতলের, মুখ, ভাংগা, ছিল, পুরাই, ফালতু, হারামজ...</td>\n",
              "      <td>[-0.12657262172017777, -0.061392387242189476, ...</td>\n",
              "    </tr>\n",
              "  </tbody>\n",
              "</table>\n",
              "</div>\n",
              "    <div class=\"colab-df-buttons\">\n",
              "\n",
              "  <div class=\"colab-df-container\">\n",
              "    <button class=\"colab-df-convert\" onclick=\"convertToInteractive('df-1f3b6bc6-e5be-49fa-85d0-1a85e90b238d')\"\n",
              "            title=\"Convert this dataframe to an interactive table.\"\n",
              "            style=\"display:none;\">\n",
              "\n",
              "  <svg xmlns=\"http://www.w3.org/2000/svg\" height=\"24px\" viewBox=\"0 -960 960 960\">\n",
              "    <path d=\"M120-120v-720h720v720H120Zm60-500h600v-160H180v160Zm220 220h160v-160H400v160Zm0 220h160v-160H400v160ZM180-400h160v-160H180v160Zm440 0h160v-160H620v160ZM180-180h160v-160H180v160Zm440 0h160v-160H620v160Z\"/>\n",
              "  </svg>\n",
              "    </button>\n",
              "\n",
              "  <style>\n",
              "    .colab-df-container {\n",
              "      display:flex;\n",
              "      gap: 12px;\n",
              "    }\n",
              "\n",
              "    .colab-df-convert {\n",
              "      background-color: #E8F0FE;\n",
              "      border: none;\n",
              "      border-radius: 50%;\n",
              "      cursor: pointer;\n",
              "      display: none;\n",
              "      fill: #1967D2;\n",
              "      height: 32px;\n",
              "      padding: 0 0 0 0;\n",
              "      width: 32px;\n",
              "    }\n",
              "\n",
              "    .colab-df-convert:hover {\n",
              "      background-color: #E2EBFA;\n",
              "      box-shadow: 0px 1px 2px rgba(60, 64, 67, 0.3), 0px 1px 3px 1px rgba(60, 64, 67, 0.15);\n",
              "      fill: #174EA6;\n",
              "    }\n",
              "\n",
              "    .colab-df-buttons div {\n",
              "      margin-bottom: 4px;\n",
              "    }\n",
              "\n",
              "    [theme=dark] .colab-df-convert {\n",
              "      background-color: #3B4455;\n",
              "      fill: #D2E3FC;\n",
              "    }\n",
              "\n",
              "    [theme=dark] .colab-df-convert:hover {\n",
              "      background-color: #434B5C;\n",
              "      box-shadow: 0px 1px 3px 1px rgba(0, 0, 0, 0.15);\n",
              "      filter: drop-shadow(0px 1px 2px rgba(0, 0, 0, 0.3));\n",
              "      fill: #FFFFFF;\n",
              "    }\n",
              "  </style>\n",
              "\n",
              "    <script>\n",
              "      const buttonEl =\n",
              "        document.querySelector('#df-1f3b6bc6-e5be-49fa-85d0-1a85e90b238d button.colab-df-convert');\n",
              "      buttonEl.style.display =\n",
              "        google.colab.kernel.accessAllowed ? 'block' : 'none';\n",
              "\n",
              "      async function convertToInteractive(key) {\n",
              "        const element = document.querySelector('#df-1f3b6bc6-e5be-49fa-85d0-1a85e90b238d');\n",
              "        const dataTable =\n",
              "          await google.colab.kernel.invokeFunction('convertToInteractive',\n",
              "                                                    [key], {});\n",
              "        if (!dataTable) return;\n",
              "\n",
              "        const docLinkHtml = 'Like what you see? Visit the ' +\n",
              "          '<a target=\"_blank\" href=https://colab.research.google.com/notebooks/data_table.ipynb>data table notebook</a>'\n",
              "          + ' to learn more about interactive tables.';\n",
              "        element.innerHTML = '';\n",
              "        dataTable['output_type'] = 'display_data';\n",
              "        await google.colab.output.renderOutput(dataTable, element);\n",
              "        const docLink = document.createElement('div');\n",
              "        docLink.innerHTML = docLinkHtml;\n",
              "        element.appendChild(docLink);\n",
              "      }\n",
              "    </script>\n",
              "  </div>\n",
              "\n",
              "\n",
              "<div id=\"df-bc9e7f39-0854-46ca-b94c-6a58276acd57\">\n",
              "  <button class=\"colab-df-quickchart\" onclick=\"quickchart('df-bc9e7f39-0854-46ca-b94c-6a58276acd57')\"\n",
              "            title=\"Suggest charts\"\n",
              "            style=\"display:none;\">\n",
              "\n",
              "<svg xmlns=\"http://www.w3.org/2000/svg\" height=\"24px\"viewBox=\"0 0 24 24\"\n",
              "     width=\"24px\">\n",
              "    <g>\n",
              "        <path d=\"M19 3H5c-1.1 0-2 .9-2 2v14c0 1.1.9 2 2 2h14c1.1 0 2-.9 2-2V5c0-1.1-.9-2-2-2zM9 17H7v-7h2v7zm4 0h-2V7h2v10zm4 0h-2v-4h2v4z\"/>\n",
              "    </g>\n",
              "</svg>\n",
              "  </button>\n",
              "\n",
              "<style>\n",
              "  .colab-df-quickchart {\n",
              "      --bg-color: #E8F0FE;\n",
              "      --fill-color: #1967D2;\n",
              "      --hover-bg-color: #E2EBFA;\n",
              "      --hover-fill-color: #174EA6;\n",
              "      --disabled-fill-color: #AAA;\n",
              "      --disabled-bg-color: #DDD;\n",
              "  }\n",
              "\n",
              "  [theme=dark] .colab-df-quickchart {\n",
              "      --bg-color: #3B4455;\n",
              "      --fill-color: #D2E3FC;\n",
              "      --hover-bg-color: #434B5C;\n",
              "      --hover-fill-color: #FFFFFF;\n",
              "      --disabled-bg-color: #3B4455;\n",
              "      --disabled-fill-color: #666;\n",
              "  }\n",
              "\n",
              "  .colab-df-quickchart {\n",
              "    background-color: var(--bg-color);\n",
              "    border: none;\n",
              "    border-radius: 50%;\n",
              "    cursor: pointer;\n",
              "    display: none;\n",
              "    fill: var(--fill-color);\n",
              "    height: 32px;\n",
              "    padding: 0;\n",
              "    width: 32px;\n",
              "  }\n",
              "\n",
              "  .colab-df-quickchart:hover {\n",
              "    background-color: var(--hover-bg-color);\n",
              "    box-shadow: 0 1px 2px rgba(60, 64, 67, 0.3), 0 1px 3px 1px rgba(60, 64, 67, 0.15);\n",
              "    fill: var(--button-hover-fill-color);\n",
              "  }\n",
              "\n",
              "  .colab-df-quickchart-complete:disabled,\n",
              "  .colab-df-quickchart-complete:disabled:hover {\n",
              "    background-color: var(--disabled-bg-color);\n",
              "    fill: var(--disabled-fill-color);\n",
              "    box-shadow: none;\n",
              "  }\n",
              "\n",
              "  .colab-df-spinner {\n",
              "    border: 2px solid var(--fill-color);\n",
              "    border-color: transparent;\n",
              "    border-bottom-color: var(--fill-color);\n",
              "    animation:\n",
              "      spin 1s steps(1) infinite;\n",
              "  }\n",
              "\n",
              "  @keyframes spin {\n",
              "    0% {\n",
              "      border-color: transparent;\n",
              "      border-bottom-color: var(--fill-color);\n",
              "      border-left-color: var(--fill-color);\n",
              "    }\n",
              "    20% {\n",
              "      border-color: transparent;\n",
              "      border-left-color: var(--fill-color);\n",
              "      border-top-color: var(--fill-color);\n",
              "    }\n",
              "    30% {\n",
              "      border-color: transparent;\n",
              "      border-left-color: var(--fill-color);\n",
              "      border-top-color: var(--fill-color);\n",
              "      border-right-color: var(--fill-color);\n",
              "    }\n",
              "    40% {\n",
              "      border-color: transparent;\n",
              "      border-right-color: var(--fill-color);\n",
              "      border-top-color: var(--fill-color);\n",
              "    }\n",
              "    60% {\n",
              "      border-color: transparent;\n",
              "      border-right-color: var(--fill-color);\n",
              "    }\n",
              "    80% {\n",
              "      border-color: transparent;\n",
              "      border-right-color: var(--fill-color);\n",
              "      border-bottom-color: var(--fill-color);\n",
              "    }\n",
              "    90% {\n",
              "      border-color: transparent;\n",
              "      border-bottom-color: var(--fill-color);\n",
              "    }\n",
              "  }\n",
              "</style>\n",
              "\n",
              "  <script>\n",
              "    async function quickchart(key) {\n",
              "      const quickchartButtonEl =\n",
              "        document.querySelector('#' + key + ' button');\n",
              "      quickchartButtonEl.disabled = true;  // To prevent multiple clicks.\n",
              "      quickchartButtonEl.classList.add('colab-df-spinner');\n",
              "      try {\n",
              "        const charts = await google.colab.kernel.invokeFunction(\n",
              "            'suggestCharts', [key], {});\n",
              "      } catch (error) {\n",
              "        console.error('Error during call to suggestCharts:', error);\n",
              "      }\n",
              "      quickchartButtonEl.classList.remove('colab-df-spinner');\n",
              "      quickchartButtonEl.classList.add('colab-df-quickchart-complete');\n",
              "    }\n",
              "    (() => {\n",
              "      let quickchartButtonEl =\n",
              "        document.querySelector('#df-bc9e7f39-0854-46ca-b94c-6a58276acd57 button');\n",
              "      quickchartButtonEl.style.display =\n",
              "        google.colab.kernel.accessAllowed ? 'block' : 'none';\n",
              "    })();\n",
              "  </script>\n",
              "</div>\n",
              "\n",
              "    </div>\n",
              "  </div>\n"
            ],
            "application/vnd.google.colaboratory.intrinsic+json": {
              "type": "dataframe",
              "variable_name": "Data",
              "summary": "{\n  \"name\": \"Data\",\n  \"rows\": 3572,\n  \"fields\": [\n    {\n      \"column\": \"Reviews\",\n      \"properties\": {\n        \"dtype\": \"string\",\n        \"num_unique_values\": 3252,\n        \"samples\": [\n          \"\\u0986\\u09b2\\u09b9\\u09be\\u09ae\\u09a6\\u09c1\\u09b2\\u09bf\\u09b2\\u09cd\\u09b2\\u09be\\u09b9 \\u09a6\\u09be\\u09ae\\u099f\\u09be \\u098f\\u0995\\u099f\\u09c1 \\u09ac\\u09c7\\u09b6\\u09c0 \\u09ae\\u09a8\\u09c7 \\u09b9\\u0987\\u099b\\u09c7 \\u0995\\u09bf\\u09a8\\u09cd\\u09a4\\u09c1 \\u09aa\\u09cd\\u09b0\\u09cb\\u09a1\\u09be\\u0995\\u09cd\\u099f \\u09ad\\u09be\\u09b2\\u09cb\",\n          \"\\u09ae\\u09bf\\u099f\\u09be\\u09b0\\u09c7\\u09b0 \\u0995\\u09be\\u099f\\u09be \\u09a0\\u09bf\\u0995 \\u09a8\\u09be\\u0987 \\u09ad\\u09c7\\u09dc\\u09be\\u099a\\u09cd\\u099a\\u09cb\\u09a6\\u09be\",\n          \"\\u0985\\u09b8\\u09be\\u09a7\\u09be\\u09b0\\u09a3 \\u09aa\\u09b0\\u09ac\\u09b0\\u09cd\\u09a4\\u09c0\\u09a4\\u09c7 \\u0986\\u09ac\\u09be\\u09b0 \\u0985\\u09b0\\u09cd\\u09a1\\u09be\\u09b0 \\u0995\\u09b0\\u09ac\\u09cb \\u0987\\u09a8\\u09b6\\u09be\\u09b2\\u09cd\\u09b2\\u09be\\u09b9\"\n        ],\n        \"semantic_type\": \"\",\n        \"description\": \"\"\n      }\n    },\n    {\n      \"column\": \"Sentiments\",\n      \"properties\": {\n        \"dtype\": \"category\",\n        \"num_unique_values\": 2,\n        \"samples\": [\n          \"Positive\",\n          \"Negative \"\n        ],\n        \"semantic_type\": \"\",\n        \"description\": \"\"\n      }\n    },\n    {\n      \"column\": \"Cleaned_Reviews\",\n      \"properties\": {\n        \"dtype\": \"string\",\n        \"num_unique_values\": 3250,\n        \"samples\": [\n          \"\\u09aa\\u09cd\\u09b0\\u09cb\\u09a1\\u09be\\u0995\\u09cd\\u099f \\u099f\\u09be \\u09ad\\u09be\\u09b2\\u09cb \\u099b\\u09bf\\u09b2 \\u0985\\u09b8\\u09be\\u09a7\\u09be\\u09b0\\u09a3\",\n          \"\\u0986\\u09ae\\u09be\\u09b0 \\u09ad\\u09be\\u09b2\\u09cb \\u09b2\\u09c7\\u0997\\u09c7\\u099b\\u09c7 \\u09aa\\u09a3\\u09cd\\u09af\\u099f\\u09bf \\u0986\\u09ae\\u09be\\u09b0 \\u09aa\\u0995\\u09cd\\u09b7\\u09c7 \\u09af\\u09a5\\u09c7\\u09b7\\u09cd\\u099f \\u09ad\\u09be\\u09b2 \\u0995\\u09be\\u099c \\u0995\\u09b0\\u099b\\u09c7\"\n        ],\n        \"semantic_type\": \"\",\n        \"description\": \"\"\n      }\n    },\n    {\n      \"column\": \"Tokenized_Reviews\",\n      \"properties\": {\n        \"dtype\": \"object\",\n        \"semantic_type\": \"\",\n        \"description\": \"\"\n      }\n    },\n    {\n      \"column\": \"word2vec_embedding\",\n      \"properties\": {\n        \"dtype\": \"object\",\n        \"semantic_type\": \"\",\n        \"description\": \"\"\n      }\n    }\n  ]\n}"
            }
          },
          "metadata": {},
          "execution_count": 15
        }
      ]
    },
    {
      "cell_type": "code",
      "source": [
        "from sklearn.preprocessing import LabelEncoder\n",
        "\n",
        "y = Data['Sentiments']\n",
        "label_encoder = LabelEncoder()\n",
        "y = label_encoder.fit_transform(y)"
      ],
      "metadata": {
        "id": "M7hEz3_nWNEw"
      },
      "execution_count": null,
      "outputs": []
    },
    {
      "cell_type": "code",
      "source": [
        "X = ['word2vec_embedding']\n",
        "X = np.array(Data['word2vec_embedding'].tolist())"
      ],
      "metadata": {
        "id": "VvtImYPsCCDf"
      },
      "execution_count": null,
      "outputs": []
    },
    {
      "cell_type": "code",
      "source": [
        "from sklearn.model_selection import train_test_split\n",
        "X_train, X_test, y_train, y_test = train_test_split(X, y, test_size=0.20, random_state=42)"
      ],
      "metadata": {
        "id": "eurknnCv2Mo4"
      },
      "execution_count": null,
      "outputs": []
    },
    {
      "cell_type": "code",
      "source": [
        "X_train[0]"
      ],
      "metadata": {
        "id": "nhvhLBeGTe88",
        "colab": {
          "base_uri": "https://localhost:8080/"
        },
        "outputId": "b62d71e7-6119-43a9-9ddd-3a1453f9e793"
      },
      "execution_count": null,
      "outputs": [
        {
          "output_type": "execute_result",
          "data": {
            "text/plain": [
              "array([-0.1348908 ,  0.0158288 ,  0.07609629, -0.32607137,  0.14654369,\n",
              "       -0.33962035,  0.10773192,  0.49482866, -0.09286952, -0.26507617,\n",
              "       -0.17043189, -0.40857549, -0.22678793, -0.01295965,  0.10115231,\n",
              "       -0.08068012, -0.0246019 , -0.3355025 ,  0.20613211, -0.32245616,\n",
              "        0.10492751, -0.02124345,  0.1402851 , -0.14157508, -0.3638042 ,\n",
              "        0.20362651, -0.11365441, -0.42489387, -0.24649156,  0.08765919,\n",
              "        0.08508393,  0.09821381, -0.05950145, -0.03947535, -0.12730376,\n",
              "        0.41697735, -0.20856345, -0.29851009, -0.27149602, -0.2832133 ,\n",
              "        0.04559473, -0.06539004,  0.0996364 , -0.02396676,  0.01355917,\n",
              "       -0.1798421 , -0.17590134, -0.2202187 ,  0.26163295,  0.0136807 ,\n",
              "        0.20458655, -0.15388323,  0.19526762, -0.07832487,  0.08457788,\n",
              "        0.0084028 ,  0.17721432,  0.27270659, -0.21660202,  0.04445399,\n",
              "       -0.2073884 ,  0.08258836, -0.06411248,  0.17442787, -0.42665447,\n",
              "        0.19320461,  0.085058  , -0.07873625, -0.32058427,  0.23819263,\n",
              "       -0.12934209,  0.03401241,  0.23248054, -0.18262866,  0.37035536,\n",
              "       -0.05610204,  0.10712702, -0.03000013, -0.27434813,  0.13243593,\n",
              "       -0.1097581 ,  0.19506066, -0.05790653,  0.47012053, -0.11198803,\n",
              "        0.10781077, -0.11805581,  0.53902293,  0.33044321, -0.0878448 ,\n",
              "        0.2977729 ,  0.47760715,  0.0060175 , -0.09551364,  0.45030063,\n",
              "        0.30605054,  0.19846001, -0.38066161,  0.27498225,  0.00512999])"
            ]
          },
          "metadata": {},
          "execution_count": 19
        }
      ]
    },
    {
      "cell_type": "code",
      "source": [
        "y_train[0]"
      ],
      "metadata": {
        "colab": {
          "base_uri": "https://localhost:8080/"
        },
        "id": "yHwccon02geV",
        "outputId": "b1d30a69-7194-4b23-cc82-d55d082a3ad7"
      },
      "execution_count": null,
      "outputs": [
        {
          "output_type": "execute_result",
          "data": {
            "text/plain": [
              "0"
            ]
          },
          "metadata": {},
          "execution_count": 20
        }
      ]
    },
    {
      "cell_type": "code",
      "source": [
        "from tensorflow.keras.callbacks import EarlyStopping\n",
        "from tensorflow.keras.layers import Conv1D, MaxPooling1D, GlobalMaxPooling1D, Dense, Embedding, Dropout, Flatten\n",
        "from tensorflow.keras.regularizers import l2\n",
        "from tensorflow.keras.optimizers import Adam\n",
        "from tensorflow.keras.models import Sequential\n",
        "\n",
        "num_epochs = 20\n",
        "batch_size = 64\n",
        "embedding_dim = 128\n",
        "cnn_optimizer = Adam(learning_rate=0.000001)\n",
        "\n",
        "cnn_model = Sequential()\n",
        "cnn_model.add(Embedding(input_dim=10000, output_dim=embedding_dim, input_length=100))\n",
        "cnn_model.add(Conv1D(filters=64, kernel_size=5, activation='relu', padding='valid'))\n",
        "cnn_model.add(MaxPooling1D(pool_size=2))\n",
        "cnn_model.add(Flatten())\n",
        "cnn_model.add(Dense(64, activation='relu'))\n",
        "cnn_model.add(Dropout(0.5))\n",
        "cnn_model.add(Dense(1, activation='sigmoid'))\n",
        "\n",
        "cnn_model.compile(optimizer='adam', loss='binary_crossentropy', metrics=['accuracy'])\n",
        "\n",
        "early_stopping = EarlyStopping(monitor='val_loss', patience=10, restore_best_weights=True)\n",
        "\n",
        "history = cnn_model.fit(\n",
        "    X_train, y_train,\n",
        "    epochs=num_epochs,\n",
        "    batch_size=batch_size,\n",
        "    validation_data=(X_test, y_test)\n",
        ")"
      ],
      "metadata": {
        "id": "C2Xi-fgj2y_N",
        "colab": {
          "base_uri": "https://localhost:8080/"
        },
        "outputId": "b4678c4c-f56d-4832-f183-231205940c1c"
      },
      "execution_count": null,
      "outputs": [
        {
          "output_type": "stream",
          "name": "stdout",
          "text": [
            "Epoch 1/20\n",
            "45/45 [==============================] - 3s 18ms/step - loss: 0.6850 - accuracy: 0.5628 - val_loss: 0.6730 - val_accuracy: 0.5664\n",
            "Epoch 2/20\n",
            "45/45 [==============================] - 0s 9ms/step - loss: 0.6383 - accuracy: 0.5898 - val_loss: 0.6200 - val_accuracy: 0.5720\n",
            "Epoch 3/20\n",
            "45/45 [==============================] - 0s 9ms/step - loss: 0.6134 - accuracy: 0.6055 - val_loss: 0.6148 - val_accuracy: 0.5790\n",
            "Epoch 4/20\n",
            "45/45 [==============================] - 0s 6ms/step - loss: 0.6113 - accuracy: 0.6010 - val_loss: 0.6086 - val_accuracy: 0.5790\n",
            "Epoch 5/20\n",
            "45/45 [==============================] - 0s 9ms/step - loss: 0.6109 - accuracy: 0.5982 - val_loss: 0.6136 - val_accuracy: 0.5790\n",
            "Epoch 6/20\n",
            "45/45 [==============================] - 0s 7ms/step - loss: 0.6103 - accuracy: 0.6059 - val_loss: 0.6149 - val_accuracy: 0.5790\n",
            "Epoch 7/20\n",
            "45/45 [==============================] - 0s 6ms/step - loss: 0.6091 - accuracy: 0.6097 - val_loss: 0.6072 - val_accuracy: 0.5790\n",
            "Epoch 8/20\n",
            "45/45 [==============================] - 0s 6ms/step - loss: 0.6074 - accuracy: 0.6083 - val_loss: 0.6067 - val_accuracy: 0.5790\n",
            "Epoch 9/20\n",
            "45/45 [==============================] - 0s 7ms/step - loss: 0.6081 - accuracy: 0.6003 - val_loss: 0.6065 - val_accuracy: 0.5790\n",
            "Epoch 10/20\n",
            "45/45 [==============================] - 0s 6ms/step - loss: 0.6069 - accuracy: 0.6038 - val_loss: 0.6058 - val_accuracy: 0.5790\n",
            "Epoch 11/20\n",
            "45/45 [==============================] - 0s 6ms/step - loss: 0.6050 - accuracy: 0.6104 - val_loss: 0.6076 - val_accuracy: 0.5497\n",
            "Epoch 12/20\n",
            "45/45 [==============================] - 0s 6ms/step - loss: 0.6069 - accuracy: 0.5982 - val_loss: 0.6066 - val_accuracy: 0.5790\n",
            "Epoch 13/20\n",
            "45/45 [==============================] - 0s 6ms/step - loss: 0.6043 - accuracy: 0.6097 - val_loss: 0.6068 - val_accuracy: 0.5790\n",
            "Epoch 14/20\n",
            "45/45 [==============================] - 0s 6ms/step - loss: 0.6046 - accuracy: 0.6076 - val_loss: 0.6074 - val_accuracy: 0.5790\n",
            "Epoch 15/20\n",
            "45/45 [==============================] - 0s 7ms/step - loss: 0.6042 - accuracy: 0.6101 - val_loss: 0.6073 - val_accuracy: 0.5790\n",
            "Epoch 16/20\n",
            "45/45 [==============================] - 0s 7ms/step - loss: 0.6051 - accuracy: 0.6101 - val_loss: 0.6062 - val_accuracy: 0.5790\n",
            "Epoch 17/20\n",
            "45/45 [==============================] - 0s 7ms/step - loss: 0.6064 - accuracy: 0.6041 - val_loss: 0.6071 - val_accuracy: 0.5790\n",
            "Epoch 18/20\n",
            "45/45 [==============================] - 0s 6ms/step - loss: 0.6036 - accuracy: 0.6101 - val_loss: 0.6068 - val_accuracy: 0.5790\n",
            "Epoch 19/20\n",
            "45/45 [==============================] - 0s 7ms/step - loss: 0.6042 - accuracy: 0.6087 - val_loss: 0.6069 - val_accuracy: 0.5790\n",
            "Epoch 20/20\n",
            "45/45 [==============================] - 0s 7ms/step - loss: 0.6037 - accuracy: 0.6101 - val_loss: 0.6087 - val_accuracy: 0.5790\n"
          ]
        }
      ]
    },
    {
      "cell_type": "code",
      "source": [],
      "metadata": {
        "id": "Vsg8RE3Zarei"
      },
      "execution_count": null,
      "outputs": []
    }
  ]
}